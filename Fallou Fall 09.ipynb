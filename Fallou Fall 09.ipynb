{
 "cells": [
  {
   "cell_type": "markdown",
   "metadata": {},
   "source": [
    "---\n",
    "## 4. Exercises"
   ]
  },
  {
   "cell_type": "code",
   "execution_count": 1,
   "metadata": {
    "ExecuteTime": {
     "end_time": "2024-01-21T16:12:47.013268100Z",
     "start_time": "2024-01-21T16:12:45.920933Z"
    }
   },
   "outputs": [
    {
     "name": "stdout",
     "output_type": "stream",
     "text": [
      "Creating database...\n",
      "Database created!\n"
     ]
    }
   ],
   "source": [
    "  # Preaparing the database for the exercises\n",
    "\n",
    "# We will create a database with 3 tables: Students, Subjects and Classrooms\n",
    "\n",
    "import os\n",
    "import sqlite3\n",
    "import pandas as pd\n",
    "\n",
    "if \"university.db\" in os.listdir ( ) :\n",
    "    os.remove ( \"university.db\" )\n",
    "\n",
    "if \"university.db\" not in os.listdir ( ) :\n",
    "    print ( \"Creating database...\" )\n",
    "\n",
    "    # Connect to SQLite database (or create it)\n",
    "    connection = sqlite3.connect ( \"university.db\" )\n",
    "\n",
    "    # Create cursor object\n",
    "    cursor = connection.cursor ( )\n",
    "\n",
    "    # Create Students table\n",
    "    cursor.execute ( \"\"\"\n",
    "    CREATE TABLE IF NOT EXISTS Students (\n",
    "        Student_ID INTEGER PRIMARY KEY,\n",
    "        Student_Name TEXT,\n",
    "        Age INTEGER,\n",
    "        Program_ID INTEGER,\n",
    "        FOREIGN KEY (Program_ID) REFERENCES Programs(Program_ID)\n",
    "    )\n",
    "    \"\"\" )\n",
    "\n",
    "    # Create Programs table\n",
    "    cursor.execute ( \"\"\"\n",
    "    CREATE TABLE IF NOT EXISTS Programs (\n",
    "        Program_ID INTEGER PRIMARY KEY,\n",
    "        Program_Name TEXT,\n",
    "        Coordinator_Name TEXT,\n",
    "        Classrooms_ID INTEGER,\n",
    "        FOREIGN KEY (Classrooms_ID) REFERENCES Classrooms(Classroom_ID)\n",
    "    )\n",
    "    \"\"\" )\n",
    "\n",
    "    # Create Classrooms table\n",
    "    cursor.execute ( \"\"\"\n",
    "    CREATE TABLE IF NOT EXISTS Classrooms (\n",
    "        Classroom_ID INTEGER PRIMARY KEY,\n",
    "        Capacity INTEGER,\n",
    "        TV_Monitors INTEGER\n",
    "    )\n",
    "    \"\"\" )\n",
    "\n",
    "    # Insert data into Students table\n",
    "    cursor.execute ( \"INSERT INTO Students VALUES (1, 'John Doe', 25, 1)\" )\n",
    "    cursor.execute ( \"INSERT INTO Students VALUES (2, 'Jane Doe', 21, 1)\" )\n",
    "    cursor.execute ( \"INSERT INTO Students VALUES (3, 'Mike Smith', 26, 2)\" )\n",
    "    cursor.execute ( \"INSERT INTO Students VALUES (4, 'Emma Johnson', 19, 2)\" )\n",
    "    cursor.execute ( \"INSERT INTO Students VALUES (5, 'Oliver Brown', 24, 2)\" )\n",
    "    cursor.execute ( \"INSERT INTO Students VALUES (6, 'Sophia Williams', 36, 3)\" )\n",
    "    cursor.execute ( \"INSERT INTO Students VALUES (7, 'James Jones', 45, 3)\" )\n",
    "    cursor.execute ( \"INSERT INTO Students VALUES (8, 'Olivia Davis', 34, 3)\" )\n",
    "    cursor.execute ( \"INSERT INTO Students VALUES (9, 'William Miller', 29, 6)\" )\n",
    "    cursor.execute ( \"INSERT INTO Students VALUES (10, 'Ava Wilson', 25, 6)\" )\n",
    "    cursor.execute ( \"INSERT INTO Students VALUES (11, 'Ethan Wilson', 22, 6)\" )\n",
    "\n",
    "    # Insert data into Programs table\n",
    "    cursor.execute ( \"INSERT INTO Programs VALUES (1, 'Data Science', 'Mr. Thompson', 2)\" )\n",
    "    cursor.execute ( \"INSERT INTO Programs VALUES (2, 'Philosophy', 'Mrs. Williams', 4)\" )\n",
    "    cursor.execute ( \"INSERT INTO Programs VALUES (3, 'Mechanical Engineering', 'Mr. Davis', 5)\" )\n",
    "    cursor.execute ( \"INSERT INTO Programs VALUES (4, 'Biology', 'Mrs. Miller', 8)\" )\n",
    "    cursor.execute ( \"INSERT INTO Programs VALUES (5, 'Law', 'Mr. Wilson', 7)\" )\n",
    "    cursor.execute ( \"INSERT INTO Programs VALUES (6, 'Computer Science', 'Mr. Brown', 6)\" )\n",
    "\n",
    "    # Insert data into Classrooms table\n",
    "    cursor.execute ( \"INSERT INTO Classrooms VALUES (1, 30, 1)\" )\n",
    "    cursor.execute ( \"INSERT INTO Classrooms VALUES (2, 50, 2)\" )\n",
    "    cursor.execute ( \"INSERT INTO Classrooms VALUES (3, 40, 2)\" )\n",
    "    cursor.execute ( \"INSERT INTO Classrooms VALUES (4, 60, 3)\" )\n",
    "    cursor.execute ( \"INSERT INTO Classrooms VALUES (5, 30, 1)\" )\n",
    "    cursor.execute ( \"INSERT INTO Classrooms VALUES (6, 50, 2)\" )\n",
    "    cursor.execute ( \"INSERT INTO Classrooms VALUES (7, 60, 4)\" )\n",
    "    cursor.execute ( \"INSERT INTO Classrooms VALUES (8, 50, 3)\" )\n",
    "\n",
    "    # Commit the changes and close the connection\n",
    "    connection.commit ( )\n",
    "    connection.close ( )\n",
    "\n",
    "    print ( \"Database created!\" )\n",
    "\n",
    "\n",
    "# Let's create our own function to make this process easier\n",
    "\n",
    "def execute_query ( query , database=\"university.db\" ) :\n",
    "    connection = sqlite3.connect ( database )\n",
    "    df = pd.read_sql ( query , connection )\n",
    "    connection.close ( )\n",
    "\n",
    "    return df\n"
   ]
  },
  {
   "cell_type": "markdown",
   "metadata": {},
   "source": [
    "### Database description\n",
    "\n",
    "In this case we will have a Database called `universitiy.db` with 3 tables: `Students`, `Programs` and `Classrooms`.\n",
    "\n",
    "The `Students` table will have the following columns:\n",
    "- `Student_ID` (integer, primary key)\n",
    "- `Student_Name` (text)\n",
    "- `Age` (integer)\n",
    "- `Program_ID` (integer, foreign key from `Programs` table)\n",
    "\n",
    "The `Programs` table will have the following columns:\n",
    "- `Program_ID` (integer, primary key)\n",
    "- `Program_Name` (text)\n",
    "- `Coordinator` (text)\n",
    "- `Classroom_ID` (integer, foreign key from `Classrooms` table)\n",
    "\n",
    "The `Classrooms` table will have the following columns:\n",
    "- `Classroom_ID` (integer, primary key)\n",
    "- `Capacity` (integer)\n",
    "- `TV_Monitors` (integer)"
   ]
  },
  {
   "cell_type": "markdown",
   "metadata": {},
   "source": [
    "#### Ex 1.\n",
    "\n",
    "Take a look at every table in the database by querying all of it one by one: Students, Programs, Classrooms"
   ]
  },
  {
   "cell_type": "code",
   "execution_count": 2,
   "metadata": {
    "collapsed": false,
    "ExecuteTime": {
     "end_time": "2023-12-20T23:52:33.696352300Z",
     "start_time": "2023-12-20T23:52:33.664020900Z"
    }
   },
   "outputs": [
    {
     "data": {
      "text/plain": "    Student_ID     Student_Name  Age  Program_ID\n0            1         John Doe   25           1\n1            2         Jane Doe   21           1\n2            3       Mike Smith   26           2\n3            4     Emma Johnson   19           2\n4            5     Oliver Brown   24           2\n5            6  Sophia Williams   36           3\n6            7      James Jones   45           3\n7            8     Olivia Davis   34           3\n8            9   William Miller   29           6\n9           10       Ava Wilson   25           6\n10          11     Ethan Wilson   22           6",
      "text/html": "<div>\n<style scoped>\n    .dataframe tbody tr th:only-of-type {\n        vertical-align: middle;\n    }\n\n    .dataframe tbody tr th {\n        vertical-align: top;\n    }\n\n    .dataframe thead th {\n        text-align: right;\n    }\n</style>\n<table border=\"1\" class=\"dataframe\">\n  <thead>\n    <tr style=\"text-align: right;\">\n      <th></th>\n      <th>Student_ID</th>\n      <th>Student_Name</th>\n      <th>Age</th>\n      <th>Program_ID</th>\n    </tr>\n  </thead>\n  <tbody>\n    <tr>\n      <th>0</th>\n      <td>1</td>\n      <td>John Doe</td>\n      <td>25</td>\n      <td>1</td>\n    </tr>\n    <tr>\n      <th>1</th>\n      <td>2</td>\n      <td>Jane Doe</td>\n      <td>21</td>\n      <td>1</td>\n    </tr>\n    <tr>\n      <th>2</th>\n      <td>3</td>\n      <td>Mike Smith</td>\n      <td>26</td>\n      <td>2</td>\n    </tr>\n    <tr>\n      <th>3</th>\n      <td>4</td>\n      <td>Emma Johnson</td>\n      <td>19</td>\n      <td>2</td>\n    </tr>\n    <tr>\n      <th>4</th>\n      <td>5</td>\n      <td>Oliver Brown</td>\n      <td>24</td>\n      <td>2</td>\n    </tr>\n    <tr>\n      <th>5</th>\n      <td>6</td>\n      <td>Sophia Williams</td>\n      <td>36</td>\n      <td>3</td>\n    </tr>\n    <tr>\n      <th>6</th>\n      <td>7</td>\n      <td>James Jones</td>\n      <td>45</td>\n      <td>3</td>\n    </tr>\n    <tr>\n      <th>7</th>\n      <td>8</td>\n      <td>Olivia Davis</td>\n      <td>34</td>\n      <td>3</td>\n    </tr>\n    <tr>\n      <th>8</th>\n      <td>9</td>\n      <td>William Miller</td>\n      <td>29</td>\n      <td>6</td>\n    </tr>\n    <tr>\n      <th>9</th>\n      <td>10</td>\n      <td>Ava Wilson</td>\n      <td>25</td>\n      <td>6</td>\n    </tr>\n    <tr>\n      <th>10</th>\n      <td>11</td>\n      <td>Ethan Wilson</td>\n      <td>22</td>\n      <td>6</td>\n    </tr>\n  </tbody>\n</table>\n</div>"
     },
     "execution_count": 2,
     "metadata": {},
     "output_type": "execute_result"
    }
   ],
   "source": [
    "  #List of all Students\n",
    "query = \"\"\"\n",
    "        SELECT *\n",
    "        FROM Students;\n",
    "\"\"\"\n",
    "df = execute_query ( query )\n",
    "df"
   ]
  },
  {
   "cell_type": "code",
   "execution_count": 4,
   "outputs": [
    {
     "data": {
      "text/plain": "   Program_ID            Program_Name Coordinator_Name  Classrooms_ID\n0           1            Data Science     Mr. Thompson              2\n1           2              Philosophy    Mrs. Williams              4\n2           3  Mechanical Engineering        Mr. Davis              5\n3           4                 Biology      Mrs. Miller              8\n4           5                     Law       Mr. Wilson              7\n5           6        Computer Science        Mr. Brown              6",
      "text/html": "<div>\n<style scoped>\n    .dataframe tbody tr th:only-of-type {\n        vertical-align: middle;\n    }\n\n    .dataframe tbody tr th {\n        vertical-align: top;\n    }\n\n    .dataframe thead th {\n        text-align: right;\n    }\n</style>\n<table border=\"1\" class=\"dataframe\">\n  <thead>\n    <tr style=\"text-align: right;\">\n      <th></th>\n      <th>Program_ID</th>\n      <th>Program_Name</th>\n      <th>Coordinator_Name</th>\n      <th>Classrooms_ID</th>\n    </tr>\n  </thead>\n  <tbody>\n    <tr>\n      <th>0</th>\n      <td>1</td>\n      <td>Data Science</td>\n      <td>Mr. Thompson</td>\n      <td>2</td>\n    </tr>\n    <tr>\n      <th>1</th>\n      <td>2</td>\n      <td>Philosophy</td>\n      <td>Mrs. Williams</td>\n      <td>4</td>\n    </tr>\n    <tr>\n      <th>2</th>\n      <td>3</td>\n      <td>Mechanical Engineering</td>\n      <td>Mr. Davis</td>\n      <td>5</td>\n    </tr>\n    <tr>\n      <th>3</th>\n      <td>4</td>\n      <td>Biology</td>\n      <td>Mrs. Miller</td>\n      <td>8</td>\n    </tr>\n    <tr>\n      <th>4</th>\n      <td>5</td>\n      <td>Law</td>\n      <td>Mr. Wilson</td>\n      <td>7</td>\n    </tr>\n    <tr>\n      <th>5</th>\n      <td>6</td>\n      <td>Computer Science</td>\n      <td>Mr. Brown</td>\n      <td>6</td>\n    </tr>\n  </tbody>\n</table>\n</div>"
     },
     "execution_count": 4,
     "metadata": {},
     "output_type": "execute_result"
    }
   ],
   "source": [
    "  #List of all Programs\n",
    "query = \"\"\"\n",
    "        SELECT *\n",
    "        FROM programs;\n",
    "\"\"\"\n",
    "df = execute_query ( query )\n",
    "df"
   ],
   "metadata": {
    "ExecuteTime": {
     "end_time": "2023-12-20T23:53:07.995957300Z",
     "start_time": "2023-12-20T23:53:07.711416400Z"
    }
   }
  },
  {
   "cell_type": "code",
   "execution_count": 5,
   "metadata": {
    "ExecuteTime": {
     "end_time": "2023-12-20T23:53:19.850619700Z",
     "start_time": "2023-12-20T23:53:19.836170900Z"
    }
   },
   "outputs": [
    {
     "data": {
      "text/plain": "   Classroom_ID  Capacity  TV_Monitors\n0             1        30            1\n1             2        50            2\n2             3        40            2\n3             4        60            3\n4             5        30            1\n5             6        50            2\n6             7        60            4\n7             8        50            3",
      "text/html": "<div>\n<style scoped>\n    .dataframe tbody tr th:only-of-type {\n        vertical-align: middle;\n    }\n\n    .dataframe tbody tr th {\n        vertical-align: top;\n    }\n\n    .dataframe thead th {\n        text-align: right;\n    }\n</style>\n<table border=\"1\" class=\"dataframe\">\n  <thead>\n    <tr style=\"text-align: right;\">\n      <th></th>\n      <th>Classroom_ID</th>\n      <th>Capacity</th>\n      <th>TV_Monitors</th>\n    </tr>\n  </thead>\n  <tbody>\n    <tr>\n      <th>0</th>\n      <td>1</td>\n      <td>30</td>\n      <td>1</td>\n    </tr>\n    <tr>\n      <th>1</th>\n      <td>2</td>\n      <td>50</td>\n      <td>2</td>\n    </tr>\n    <tr>\n      <th>2</th>\n      <td>3</td>\n      <td>40</td>\n      <td>2</td>\n    </tr>\n    <tr>\n      <th>3</th>\n      <td>4</td>\n      <td>60</td>\n      <td>3</td>\n    </tr>\n    <tr>\n      <th>4</th>\n      <td>5</td>\n      <td>30</td>\n      <td>1</td>\n    </tr>\n    <tr>\n      <th>5</th>\n      <td>6</td>\n      <td>50</td>\n      <td>2</td>\n    </tr>\n    <tr>\n      <th>6</th>\n      <td>7</td>\n      <td>60</td>\n      <td>4</td>\n    </tr>\n    <tr>\n      <th>7</th>\n      <td>8</td>\n      <td>50</td>\n      <td>3</td>\n    </tr>\n  </tbody>\n</table>\n</div>"
     },
     "execution_count": 5,
     "metadata": {},
     "output_type": "execute_result"
    }
   ],
   "source": [
    "  #List of all Classrooms\n",
    "query = \"\"\"\n",
    "        SELECT *\n",
    "        FROM Classrooms;\n",
    "\"\"\"\n",
    "df = execute_query ( query )\n",
    "df"
   ]
  },
  {
   "cell_type": "markdown",
   "metadata": {},
   "source": [
    "#### Ex 2.\n",
    "\n",
    "Develop the 3 queries to answer the following questions:\n",
    "\n",
    "- How many students are there in the database, count the number of rows? \n",
    "- What is the average age of all the students?\n",
    "- What is the maximum capacity of all the classrooms?"
   ]
  },
  {
   "cell_type": "code",
   "execution_count": 6,
   "metadata": {
    "ExecuteTime": {
     "end_time": "2023-12-20T23:53:28.698255800Z",
     "start_time": "2023-12-20T23:53:28.669246400Z"
    }
   },
   "outputs": [
    {
     "data": {
      "text/plain": "   Number_Of_Student\n0                 11",
      "text/html": "<div>\n<style scoped>\n    .dataframe tbody tr th:only-of-type {\n        vertical-align: middle;\n    }\n\n    .dataframe tbody tr th {\n        vertical-align: top;\n    }\n\n    .dataframe thead th {\n        text-align: right;\n    }\n</style>\n<table border=\"1\" class=\"dataframe\">\n  <thead>\n    <tr style=\"text-align: right;\">\n      <th></th>\n      <th>Number_Of_Student</th>\n    </tr>\n  </thead>\n  <tbody>\n    <tr>\n      <th>0</th>\n      <td>11</td>\n    </tr>\n  </tbody>\n</table>\n</div>"
     },
     "execution_count": 6,
     "metadata": {},
     "output_type": "execute_result"
    }
   ],
   "source": [
    "  # your code here\n",
    "#Number of Student in the Database =Number of row because each row corresponds to  a unique student (Primary key)\n",
    "query = \"\"\"\n",
    "      SELECT COUNT(*) as Number_Of_Student\n",
    "      FROM Students;\n",
    "\"\"\"\n",
    "df = execute_query ( query )\n",
    "df"
   ]
  },
  {
   "cell_type": "code",
   "execution_count": 7,
   "outputs": [
    {
     "data": {
      "text/plain": "   Age_Average\n0         28.0",
      "text/html": "<div>\n<style scoped>\n    .dataframe tbody tr th:only-of-type {\n        vertical-align: middle;\n    }\n\n    .dataframe tbody tr th {\n        vertical-align: top;\n    }\n\n    .dataframe thead th {\n        text-align: right;\n    }\n</style>\n<table border=\"1\" class=\"dataframe\">\n  <thead>\n    <tr style=\"text-align: right;\">\n      <th></th>\n      <th>Age_Average</th>\n    </tr>\n  </thead>\n  <tbody>\n    <tr>\n      <th>0</th>\n      <td>28.0</td>\n    </tr>\n  </tbody>\n</table>\n</div>"
     },
     "execution_count": 7,
     "metadata": {},
     "output_type": "execute_result"
    }
   ],
   "source": [
    "  #Average Age of the Students\n",
    "#I AM USING ROUND TO REMOVE DECIMAL FROM AGE \n",
    "query = \"\"\"\n",
    "      SELECT ROUND (AVG(AGE),0) as Age_Average\n",
    "      FROM Students;  \n",
    "\"\"\"\n",
    "df = execute_query ( query )\n",
    "df"
   ],
   "metadata": {
    "collapsed": false,
    "ExecuteTime": {
     "end_time": "2023-12-20T23:53:34.146310500Z",
     "start_time": "2023-12-20T23:53:34.114006Z"
    }
   }
  },
  {
   "cell_type": "code",
   "execution_count": 8,
   "outputs": [
    {
     "data": {
      "text/plain": "   Max_Capacity\n0            60",
      "text/html": "<div>\n<style scoped>\n    .dataframe tbody tr th:only-of-type {\n        vertical-align: middle;\n    }\n\n    .dataframe tbody tr th {\n        vertical-align: top;\n    }\n\n    .dataframe thead th {\n        text-align: right;\n    }\n</style>\n<table border=\"1\" class=\"dataframe\">\n  <thead>\n    <tr style=\"text-align: right;\">\n      <th></th>\n      <th>Max_Capacity</th>\n    </tr>\n  </thead>\n  <tbody>\n    <tr>\n      <th>0</th>\n      <td>60</td>\n    </tr>\n  </tbody>\n</table>\n</div>"
     },
     "execution_count": 8,
     "metadata": {},
     "output_type": "execute_result"
    }
   ],
   "source": [
    "  #SELEC MAX CAPACITY OF CLASSROOM\n",
    "query = \"\"\"\n",
    "      SELECT MAX (Capacity) as Max_Capacity\n",
    "      FROM Classrooms;  \n",
    "\"\"\"\n",
    "df = execute_query ( query )\n",
    "df"
   ],
   "metadata": {
    "collapsed": false,
    "ExecuteTime": {
     "end_time": "2023-12-20T23:53:46.695838800Z",
     "start_time": "2023-12-20T23:53:46.682589200Z"
    }
   }
  },
  {
   "cell_type": "markdown",
   "metadata": {},
   "source": [
    "#### Ex 3.\n",
    "\n",
    "Develop a query that contains the Programs info with the Classroom where they take place. Specifically we want the Program Name, The Program Coordinator, the Classroom ID, and Classroom TV Monitors (INNER JOIN)."
   ]
  },
  {
   "cell_type": "code",
   "execution_count": 3,
   "metadata": {
    "ExecuteTime": {
     "end_time": "2023-12-29T13:26:03.789880100Z",
     "start_time": "2023-12-29T13:26:03.735395900Z"
    }
   },
   "outputs": [
    {
     "data": {
      "text/plain": "             Program_Name Coordinator_Name  Classroom_ID  TV_Monitors\n0            Data Science     Mr. Thompson             2            2\n1              Philosophy    Mrs. Williams             4            3\n2  Mechanical Engineering        Mr. Davis             5            1\n3                 Biology      Mrs. Miller             8            3\n4                     Law       Mr. Wilson             7            4\n5        Computer Science        Mr. Brown             6            2",
      "text/html": "<div>\n<style scoped>\n    .dataframe tbody tr th:only-of-type {\n        vertical-align: middle;\n    }\n\n    .dataframe tbody tr th {\n        vertical-align: top;\n    }\n\n    .dataframe thead th {\n        text-align: right;\n    }\n</style>\n<table border=\"1\" class=\"dataframe\">\n  <thead>\n    <tr style=\"text-align: right;\">\n      <th></th>\n      <th>Program_Name</th>\n      <th>Coordinator_Name</th>\n      <th>Classroom_ID</th>\n      <th>TV_Monitors</th>\n    </tr>\n  </thead>\n  <tbody>\n    <tr>\n      <th>0</th>\n      <td>Data Science</td>\n      <td>Mr. Thompson</td>\n      <td>2</td>\n      <td>2</td>\n    </tr>\n    <tr>\n      <th>1</th>\n      <td>Philosophy</td>\n      <td>Mrs. Williams</td>\n      <td>4</td>\n      <td>3</td>\n    </tr>\n    <tr>\n      <th>2</th>\n      <td>Mechanical Engineering</td>\n      <td>Mr. Davis</td>\n      <td>5</td>\n      <td>1</td>\n    </tr>\n    <tr>\n      <th>3</th>\n      <td>Biology</td>\n      <td>Mrs. Miller</td>\n      <td>8</td>\n      <td>3</td>\n    </tr>\n    <tr>\n      <th>4</th>\n      <td>Law</td>\n      <td>Mr. Wilson</td>\n      <td>7</td>\n      <td>4</td>\n    </tr>\n    <tr>\n      <th>5</th>\n      <td>Computer Science</td>\n      <td>Mr. Brown</td>\n      <td>6</td>\n      <td>2</td>\n    </tr>\n  </tbody>\n</table>\n</div>"
     },
     "execution_count": 3,
     "metadata": {},
     "output_type": "execute_result"
    }
   ],
   "source": [
    "  # your code here\n",
    "query = \"\"\"\n",
    "     SELECT Programs.Program_Name,Programs.Coordinator_Name,Classrooms.Classroom_ID,Classrooms.TV_Monitors\n",
    "     FROM  Programs \n",
    "     INNER JOIN Classrooms\n",
    "     ON  Classrooms.Classroom_ID=Programs.Classrooms_ID; \n",
    "\"\"\"\n",
    "df = execute_query ( query )\n",
    "df"
   ]
  },
  {
   "cell_type": "code",
   "execution_count": null,
   "metadata": {},
   "outputs": [],
   "source": []
  },
  {
   "cell_type": "markdown",
   "metadata": {},
   "source": [
    "#### Ex 4.\n",
    "\n",
    "What is the average age of the Students in the Program 'Computer Science' (INNER JOIN)?"
   ]
  },
  {
   "cell_type": "code",
   "execution_count": 10,
   "metadata": {
    "ExecuteTime": {
     "end_time": "2023-12-29T13:30:52.193370600Z",
     "start_time": "2023-12-29T13:30:52.156831800Z"
    }
   },
   "outputs": [
    {
     "data": {
      "text/plain": "   Average_Student     Programs_Name\n0              6.0  Computer Science",
      "text/html": "<div>\n<style scoped>\n    .dataframe tbody tr th:only-of-type {\n        vertical-align: middle;\n    }\n\n    .dataframe tbody tr th {\n        vertical-align: top;\n    }\n\n    .dataframe thead th {\n        text-align: right;\n    }\n</style>\n<table border=\"1\" class=\"dataframe\">\n  <thead>\n    <tr style=\"text-align: right;\">\n      <th></th>\n      <th>Average_Student</th>\n      <th>Programs_Name</th>\n    </tr>\n  </thead>\n  <tbody>\n    <tr>\n      <th>0</th>\n      <td>6.0</td>\n      <td>Computer Science</td>\n    </tr>\n  </tbody>\n</table>\n</div>"
     },
     "execution_count": 10,
     "metadata": {},
     "output_type": "execute_result"
    }
   ],
   "source": [
    "  # your code here\n",
    "query = \"\"\"\n",
    "    SELECT AVG (Students.Program_ID) AS Average_Student,Programs.Program_Name as Programs_Name\n",
    "    FROM  Students \n",
    "    LEFT OUTER JOIN  Programs \n",
    "    ON  Students.Program_ID=Programs.Program_ID \n",
    "    WHERE Programs.Program_Name like 'Computer Science';\n",
    "\"\"\"\n",
    "df = execute_query ( query )\n",
    "df"
   ]
  },
  {
   "cell_type": "code",
   "execution_count": null,
   "metadata": {},
   "outputs": [],
   "source": []
  }
 ],
 "metadata": {
  "kernelspec": {
   "display_name": "Python 3",
   "language": "python",
   "name": "python3"
  },
  "language_info": {
   "codemirror_mode": {
    "name": "ipython",
    "version": 3
   },
   "file_extension": ".py",
   "mimetype": "text/x-python",
   "name": "python",
   "nbconvert_exporter": "python",
   "pygments_lexer": "ipython3",
   "version": "3.11.4"
  }
 },
 "nbformat": 4,
 "nbformat_minor": 2
}
