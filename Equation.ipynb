{
 "cells": [
  {
   "cell_type": "code",
   "execution_count": 2,
   "id": "initial_id",
   "metadata": {
    "collapsed": true,
    "ExecuteTime": {
     "end_time": "2023-12-21T18:24:09.289682500Z",
     "start_time": "2023-12-21T18:23:56.678387600Z"
    }
   },
   "outputs": [
    {
     "name": "stdout",
     "output_type": "stream",
     "text": [
      "RESOLvin equation\n",
      "------------------\n",
      "1. Equation of first degree\n",
      "2. Equation of Second degree\n",
      "3.EXit\n",
      "------------------\n",
      "4x² + -5x + -12=[]\n"
     ]
    }
   ],
   "source": [
    "import math\n",
    "\n",
    "def resultat(a,b,c):\n",
    "   delta = b*b-4*a*c\n",
    "   if delta > 0:\n",
    "      retour = [(-b-math.sqrt(delta))/(2*a),(-b+math.sqrt(delta))/(2*a)]\n",
    "   elif delta < 0:\n",
    "      retour = []  \n",
    "   else:\n",
    "      retour = [-b/(2*a)] \n",
    "   return retour\n",
    "\n",
    "\n",
    "print(\"RESOLvin equation\")\n",
    "print(\"------------------\")\n",
    "print(\"1. Equation of first degree\")\n",
    "print(\"2. Equation of Second degree\")\n",
    "print(\"3.EXit\")\n",
    "while True :\n",
    "    try :\n",
    "        choix = int(input(\"enter our choice:\"))\n",
    "        break\n",
    "    except ValueError :\n",
    "        print(\"Please input integer only...\")\n",
    "        continue\n",
    "print(\"------------------\")\n",
    "\n",
    "if choix==1 :\n",
    "        a = int(input(\"enter ax number:\"))\n",
    "        b = int(input(\"enter b number:\"))\n",
    "        print(f\"{a}x + {b}={b/a}\")\n",
    "if choix==2:\n",
    "        aa = int(input(\"enter ax² number:\"))\n",
    "        bb = int(input(\"enter bx number:\"))\n",
    "        cc = int(input(\"enter c number:\"))     \n",
    "        x=secondDegre(aa,bb,cc)\n",
    "        print(f\"{a}x² + {b}x + {cc}={x}\")\n"
   ]
  },
  {
   "cell_type": "code",
   "execution_count": 1,
   "outputs": [],
   "source": [
    "\\"
   ],
   "metadata": {
    "collapsed": false,
    "ExecuteTime": {
     "end_time": "2023-12-21T18:15:22.664965600Z",
     "start_time": "2023-12-21T18:15:22.657308500Z"
    }
   },
   "id": "f4c9367ce1842833"
  },
  {
   "cell_type": "code",
   "execution_count": null,
   "outputs": [],
   "source": [],
   "metadata": {
    "collapsed": false
   },
   "id": "e74c01eee66aca27"
  }
 ],
 "metadata": {
  "kernelspec": {
   "display_name": "Python 3",
   "language": "python",
   "name": "python3"
  },
  "language_info": {
   "codemirror_mode": {
    "name": "ipython",
    "version": 2
   },
   "file_extension": ".py",
   "mimetype": "text/x-python",
   "name": "python",
   "nbconvert_exporter": "python",
   "pygments_lexer": "ipython2",
   "version": "2.7.6"
  }
 },
 "nbformat": 4,
 "nbformat_minor": 5
}
