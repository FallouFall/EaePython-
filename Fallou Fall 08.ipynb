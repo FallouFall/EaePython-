{
 "cells": [
  {
   "cell_type": "markdown",
   "metadata": {},
   "source": [
    "---\n",
    "## 7. Exercises"
   ]
  },
  {
   "cell_type": "code",
   "execution_count": 2,
   "metadata": {
    "ExecuteTime": {
     "end_time": "2023-12-20T23:51:50.238262900Z",
     "start_time": "2023-12-20T23:51:48.241285200Z"
    }
   },
   "outputs": [],
   "source": [
    "import pandas as pd\n",
    "import sqlite3\n",
    "import os\n",
    "\n",
    "\n",
    "# Creating the database for the exercises forms the houses_data.csv file that we used in day 6\n",
    "\n",
    "df = pd.read_csv(\"house_data.csv\")\n",
    "\n",
    "cols = [\"Id\", \"LotArea\", \"HouseStyle\", \"YearBuilt\", \"FullBath\", \"Street\", \"KitchenQual\", \"SalePrice\"]\n",
    "df = df[cols]\n",
    "\n",
    "if \"houses.db\" not in os.listdir():\n",
    "    df.to_sql(\"Houses\", sqlite3.connect(\"houses.db\"), index=False)\n",
    "\n",
    "\n",
    "# Declaring again our helper function to execute queries\n",
    "    \n",
    "def execute_query(query, database=\"houses.db\"):\n",
    "\n",
    "    connection = sqlite3.connect(database)\n",
    "    df = pd.read_sql(query, connection)\n",
    "    connection.close()\n",
    "\n",
    "    return df"
   ]
  },
  {
   "cell_type": "markdown",
   "metadata": {},
   "source": [
    "#### Ex 1.\n",
    "\n",
    "Develop a SQL query to get all the rows and columns from the table Houses into a Pandas DataFrame and print it. Then, print the columns, and the shape of that resultant DataFrame."
   ]
  },
  {
   "cell_type": "code",
   "execution_count": 3,
   "metadata": {
    "ExecuteTime": {
     "end_time": "2023-12-20T23:51:59.414786100Z",
     "start_time": "2023-12-20T23:51:59.337921900Z"
    }
   },
   "outputs": [
    {
     "name": "stdout",
     "output_type": "stream",
     "text": [
      "Shape of DataFrame:(1460, 8)\n"
     ]
    },
    {
     "data": {
      "text/plain": "        Id  LotArea HouseStyle  YearBuilt  FullBath Street KitchenQual  \\\n0        1     8450     2Story       2003         2   Pave          Gd   \n1        2     9600     1Story       1976         2   Pave          TA   \n2        3    11250     2Story       2001         2   Pave          Gd   \n3        4     9550     2Story       1915         1   Pave          Gd   \n4        5    14260     2Story       2000         2   Pave          Gd   \n...    ...      ...        ...        ...       ...    ...         ...   \n1455  1456     7917     2Story       1999         2   Pave          TA   \n1456  1457    13175     1Story       1978         2   Pave          TA   \n1457  1458     9042     2Story       1941         2   Pave          Gd   \n1458  1459     9717     1Story       1950         1   Pave          Gd   \n1459  1460     9937     1Story       1965         1   Pave          TA   \n\n      SalePrice  \n0        208500  \n1        181500  \n2        223500  \n3        140000  \n4        250000  \n...         ...  \n1455     175000  \n1456     210000  \n1457     266500  \n1458     142125  \n1459     147500  \n\n[1460 rows x 8 columns]",
      "text/html": "<div>\n<style scoped>\n    .dataframe tbody tr th:only-of-type {\n        vertical-align: middle;\n    }\n\n    .dataframe tbody tr th {\n        vertical-align: top;\n    }\n\n    .dataframe thead th {\n        text-align: right;\n    }\n</style>\n<table border=\"1\" class=\"dataframe\">\n  <thead>\n    <tr style=\"text-align: right;\">\n      <th></th>\n      <th>Id</th>\n      <th>LotArea</th>\n      <th>HouseStyle</th>\n      <th>YearBuilt</th>\n      <th>FullBath</th>\n      <th>Street</th>\n      <th>KitchenQual</th>\n      <th>SalePrice</th>\n    </tr>\n  </thead>\n  <tbody>\n    <tr>\n      <th>0</th>\n      <td>1</td>\n      <td>8450</td>\n      <td>2Story</td>\n      <td>2003</td>\n      <td>2</td>\n      <td>Pave</td>\n      <td>Gd</td>\n      <td>208500</td>\n    </tr>\n    <tr>\n      <th>1</th>\n      <td>2</td>\n      <td>9600</td>\n      <td>1Story</td>\n      <td>1976</td>\n      <td>2</td>\n      <td>Pave</td>\n      <td>TA</td>\n      <td>181500</td>\n    </tr>\n    <tr>\n      <th>2</th>\n      <td>3</td>\n      <td>11250</td>\n      <td>2Story</td>\n      <td>2001</td>\n      <td>2</td>\n      <td>Pave</td>\n      <td>Gd</td>\n      <td>223500</td>\n    </tr>\n    <tr>\n      <th>3</th>\n      <td>4</td>\n      <td>9550</td>\n      <td>2Story</td>\n      <td>1915</td>\n      <td>1</td>\n      <td>Pave</td>\n      <td>Gd</td>\n      <td>140000</td>\n    </tr>\n    <tr>\n      <th>4</th>\n      <td>5</td>\n      <td>14260</td>\n      <td>2Story</td>\n      <td>2000</td>\n      <td>2</td>\n      <td>Pave</td>\n      <td>Gd</td>\n      <td>250000</td>\n    </tr>\n    <tr>\n      <th>...</th>\n      <td>...</td>\n      <td>...</td>\n      <td>...</td>\n      <td>...</td>\n      <td>...</td>\n      <td>...</td>\n      <td>...</td>\n      <td>...</td>\n    </tr>\n    <tr>\n      <th>1455</th>\n      <td>1456</td>\n      <td>7917</td>\n      <td>2Story</td>\n      <td>1999</td>\n      <td>2</td>\n      <td>Pave</td>\n      <td>TA</td>\n      <td>175000</td>\n    </tr>\n    <tr>\n      <th>1456</th>\n      <td>1457</td>\n      <td>13175</td>\n      <td>1Story</td>\n      <td>1978</td>\n      <td>2</td>\n      <td>Pave</td>\n      <td>TA</td>\n      <td>210000</td>\n    </tr>\n    <tr>\n      <th>1457</th>\n      <td>1458</td>\n      <td>9042</td>\n      <td>2Story</td>\n      <td>1941</td>\n      <td>2</td>\n      <td>Pave</td>\n      <td>Gd</td>\n      <td>266500</td>\n    </tr>\n    <tr>\n      <th>1458</th>\n      <td>1459</td>\n      <td>9717</td>\n      <td>1Story</td>\n      <td>1950</td>\n      <td>1</td>\n      <td>Pave</td>\n      <td>Gd</td>\n      <td>142125</td>\n    </tr>\n    <tr>\n      <th>1459</th>\n      <td>1460</td>\n      <td>9937</td>\n      <td>1Story</td>\n      <td>1965</td>\n      <td>1</td>\n      <td>Pave</td>\n      <td>TA</td>\n      <td>147500</td>\n    </tr>\n  </tbody>\n</table>\n<p>1460 rows × 8 columns</p>\n</div>"
     },
     "execution_count": 3,
     "metadata": {},
     "output_type": "execute_result"
    }
   ],
   "source": [
    "# your code here\n",
    "query = \"\"\"\n",
    "         SELECT *\n",
    "         FROM Houses;\n",
    "\"\"\"\n",
    "df = execute_query(query)\n",
    "print(f\"Shape of DataFrame:{df.shape}\")\n",
    "df"
   ]
  },
  {
   "cell_type": "code",
   "execution_count": null,
   "metadata": {},
   "outputs": [],
   "source": []
  },
  {
   "cell_type": "markdown",
   "metadata": {},
   "source": [
    "#### Ex 2.\n",
    "\n",
    "From the table Houses, query all the rows and columns from the houses where their SalePrice is greater than 200000."
   ]
  },
  {
   "cell_type": "code",
   "execution_count": 4,
   "metadata": {
    "ExecuteTime": {
     "end_time": "2023-12-20T23:52:04.824887Z",
     "start_time": "2023-12-20T23:52:04.791490Z"
    }
   },
   "outputs": [
    {
     "data": {
      "text/plain": "       Id  LotArea HouseStyle  YearBuilt  FullBath Street KitchenQual  \\\n0       1     8450     2Story       2003         2   Pave          Gd   \n1       3    11250     2Story       2001         2   Pave          Gd   \n2       5    14260     2Story       2000         2   Pave          Gd   \n3       7    10084     1Story       2004         2   Pave          Gd   \n4      12    11924     2Story       2005         3   Pave          Ex   \n..    ...      ...        ...        ...       ...    ...         ...   \n422  1443    11003     2Story       2008         2   Pave          Ex   \n423  1448    10000     2Story       1995         2   Pave          Gd   \n424  1452     9262     1Story       2008         2   Pave          Ex   \n425  1457    13175     1Story       1978         2   Pave          TA   \n426  1458     9042     2Story       1941         2   Pave          Gd   \n\n     SalePrice  \n0       208500  \n1       223500  \n2       250000  \n3       307000  \n4       345000  \n..         ...  \n422     310000  \n423     240000  \n424     287090  \n425     210000  \n426     266500  \n\n[427 rows x 8 columns]",
      "text/html": "<div>\n<style scoped>\n    .dataframe tbody tr th:only-of-type {\n        vertical-align: middle;\n    }\n\n    .dataframe tbody tr th {\n        vertical-align: top;\n    }\n\n    .dataframe thead th {\n        text-align: right;\n    }\n</style>\n<table border=\"1\" class=\"dataframe\">\n  <thead>\n    <tr style=\"text-align: right;\">\n      <th></th>\n      <th>Id</th>\n      <th>LotArea</th>\n      <th>HouseStyle</th>\n      <th>YearBuilt</th>\n      <th>FullBath</th>\n      <th>Street</th>\n      <th>KitchenQual</th>\n      <th>SalePrice</th>\n    </tr>\n  </thead>\n  <tbody>\n    <tr>\n      <th>0</th>\n      <td>1</td>\n      <td>8450</td>\n      <td>2Story</td>\n      <td>2003</td>\n      <td>2</td>\n      <td>Pave</td>\n      <td>Gd</td>\n      <td>208500</td>\n    </tr>\n    <tr>\n      <th>1</th>\n      <td>3</td>\n      <td>11250</td>\n      <td>2Story</td>\n      <td>2001</td>\n      <td>2</td>\n      <td>Pave</td>\n      <td>Gd</td>\n      <td>223500</td>\n    </tr>\n    <tr>\n      <th>2</th>\n      <td>5</td>\n      <td>14260</td>\n      <td>2Story</td>\n      <td>2000</td>\n      <td>2</td>\n      <td>Pave</td>\n      <td>Gd</td>\n      <td>250000</td>\n    </tr>\n    <tr>\n      <th>3</th>\n      <td>7</td>\n      <td>10084</td>\n      <td>1Story</td>\n      <td>2004</td>\n      <td>2</td>\n      <td>Pave</td>\n      <td>Gd</td>\n      <td>307000</td>\n    </tr>\n    <tr>\n      <th>4</th>\n      <td>12</td>\n      <td>11924</td>\n      <td>2Story</td>\n      <td>2005</td>\n      <td>3</td>\n      <td>Pave</td>\n      <td>Ex</td>\n      <td>345000</td>\n    </tr>\n    <tr>\n      <th>...</th>\n      <td>...</td>\n      <td>...</td>\n      <td>...</td>\n      <td>...</td>\n      <td>...</td>\n      <td>...</td>\n      <td>...</td>\n      <td>...</td>\n    </tr>\n    <tr>\n      <th>422</th>\n      <td>1443</td>\n      <td>11003</td>\n      <td>2Story</td>\n      <td>2008</td>\n      <td>2</td>\n      <td>Pave</td>\n      <td>Ex</td>\n      <td>310000</td>\n    </tr>\n    <tr>\n      <th>423</th>\n      <td>1448</td>\n      <td>10000</td>\n      <td>2Story</td>\n      <td>1995</td>\n      <td>2</td>\n      <td>Pave</td>\n      <td>Gd</td>\n      <td>240000</td>\n    </tr>\n    <tr>\n      <th>424</th>\n      <td>1452</td>\n      <td>9262</td>\n      <td>1Story</td>\n      <td>2008</td>\n      <td>2</td>\n      <td>Pave</td>\n      <td>Ex</td>\n      <td>287090</td>\n    </tr>\n    <tr>\n      <th>425</th>\n      <td>1457</td>\n      <td>13175</td>\n      <td>1Story</td>\n      <td>1978</td>\n      <td>2</td>\n      <td>Pave</td>\n      <td>TA</td>\n      <td>210000</td>\n    </tr>\n    <tr>\n      <th>426</th>\n      <td>1458</td>\n      <td>9042</td>\n      <td>2Story</td>\n      <td>1941</td>\n      <td>2</td>\n      <td>Pave</td>\n      <td>Gd</td>\n      <td>266500</td>\n    </tr>\n  </tbody>\n</table>\n<p>427 rows × 8 columns</p>\n</div>"
     },
     "execution_count": 4,
     "metadata": {},
     "output_type": "execute_result"
    }
   ],
   "source": [
    "# your code here\n",
    "query=\"\"\"\n",
    "       SELECT *\n",
    "       FROM Houses\n",
    "       where SalePrice >200000;\n",
    "\"\"\"\n",
    "df=execute_query(query)\n",
    "df"
   ]
  },
  {
   "cell_type": "code",
   "execution_count": null,
   "metadata": {},
   "outputs": [],
   "source": []
  },
  {
   "cell_type": "markdown",
   "metadata": {},
   "source": [
    "#### Ex 3.\n",
    "\n",
    "Query all the houses with HouseStyle being '2Story' that were built after the 1970. Select only the ID, HouseStyle, YearBuilt and SalePrice of them.\n",
    "\n"
   ]
  },
  {
   "cell_type": "code",
   "execution_count": 5,
   "metadata": {
    "ExecuteTime": {
     "end_time": "2023-12-20T23:52:09.420554300Z",
     "start_time": "2023-12-20T23:52:09.401147500Z"
    }
   },
   "outputs": [
    {
     "data": {
      "text/plain": "       Id HouseStyle  YearBuilt  SalePrice\n0       1     2Story       2003     208500\n1       3     2Story       2001     223500\n2       5     2Story       2000     250000\n3       8     2Story       1973     200000\n4      12     2Story       2005     345000\n..    ...        ...        ...        ...\n325  1434     2Story       2000     186500\n326  1443     2Story       2008     310000\n327  1448     2Story       1995     240000\n328  1451     2Story       1974     136000\n329  1456     2Story       1999     175000\n\n[330 rows x 4 columns]",
      "text/html": "<div>\n<style scoped>\n    .dataframe tbody tr th:only-of-type {\n        vertical-align: middle;\n    }\n\n    .dataframe tbody tr th {\n        vertical-align: top;\n    }\n\n    .dataframe thead th {\n        text-align: right;\n    }\n</style>\n<table border=\"1\" class=\"dataframe\">\n  <thead>\n    <tr style=\"text-align: right;\">\n      <th></th>\n      <th>Id</th>\n      <th>HouseStyle</th>\n      <th>YearBuilt</th>\n      <th>SalePrice</th>\n    </tr>\n  </thead>\n  <tbody>\n    <tr>\n      <th>0</th>\n      <td>1</td>\n      <td>2Story</td>\n      <td>2003</td>\n      <td>208500</td>\n    </tr>\n    <tr>\n      <th>1</th>\n      <td>3</td>\n      <td>2Story</td>\n      <td>2001</td>\n      <td>223500</td>\n    </tr>\n    <tr>\n      <th>2</th>\n      <td>5</td>\n      <td>2Story</td>\n      <td>2000</td>\n      <td>250000</td>\n    </tr>\n    <tr>\n      <th>3</th>\n      <td>8</td>\n      <td>2Story</td>\n      <td>1973</td>\n      <td>200000</td>\n    </tr>\n    <tr>\n      <th>4</th>\n      <td>12</td>\n      <td>2Story</td>\n      <td>2005</td>\n      <td>345000</td>\n    </tr>\n    <tr>\n      <th>...</th>\n      <td>...</td>\n      <td>...</td>\n      <td>...</td>\n      <td>...</td>\n    </tr>\n    <tr>\n      <th>325</th>\n      <td>1434</td>\n      <td>2Story</td>\n      <td>2000</td>\n      <td>186500</td>\n    </tr>\n    <tr>\n      <th>326</th>\n      <td>1443</td>\n      <td>2Story</td>\n      <td>2008</td>\n      <td>310000</td>\n    </tr>\n    <tr>\n      <th>327</th>\n      <td>1448</td>\n      <td>2Story</td>\n      <td>1995</td>\n      <td>240000</td>\n    </tr>\n    <tr>\n      <th>328</th>\n      <td>1451</td>\n      <td>2Story</td>\n      <td>1974</td>\n      <td>136000</td>\n    </tr>\n    <tr>\n      <th>329</th>\n      <td>1456</td>\n      <td>2Story</td>\n      <td>1999</td>\n      <td>175000</td>\n    </tr>\n  </tbody>\n</table>\n<p>330 rows × 4 columns</p>\n</div>"
     },
     "execution_count": 5,
     "metadata": {},
     "output_type": "execute_result"
    }
   ],
   "source": [
    "# your code here\n",
    "query=\"\"\"\n",
    "        SELECT Id,HouseStyle,YearBuilt, SalePrice\n",
    "        FROM  Houses \n",
    "        WHERE Houses.HouseStyle LIKE '2Story' AND YearBuilt >1970;\n",
    "\"\"\"\n",
    "df=execute_query(query)\n",
    "df"
   ]
  },
  {
   "cell_type": "code",
   "execution_count": null,
   "metadata": {},
   "outputs": [],
   "source": []
  },
  {
   "cell_type": "markdown",
   "metadata": {},
   "source": [
    "#### Ex 4. \n",
    "\n",
    "Query all the houses that have a KitchenQual of 'TA' (which means that the Kithcen Quality is Typical/Average) and FullBath (number of full bathrooms) equal or larger than 2. Select only the ID, KitchenQual, FullBath and SalePrice of them.\n",
    "\n"
   ]
  },
  {
   "cell_type": "code",
   "execution_count": 6,
   "metadata": {
    "ExecuteTime": {
     "end_time": "2023-12-20T23:52:13.938999100Z",
     "start_time": "2023-12-20T23:52:13.914609Z"
    }
   },
   "outputs": [
    {
     "data": {
      "text/plain": "       Id KitchenQual  FullBath  SalePrice\n0       2          TA         2     181500\n1       8          TA         2     200000\n2       9          TA         2     129900\n3      18          TA         2      90000\n4      41          TA         2     160000\n..    ...         ...       ...        ...\n241  1440          TA         2     197000\n242  1441          TA         2     191000\n243  1451          TA         2     136000\n244  1456          TA         2     175000\n245  1457          TA         2     210000\n\n[246 rows x 4 columns]",
      "text/html": "<div>\n<style scoped>\n    .dataframe tbody tr th:only-of-type {\n        vertical-align: middle;\n    }\n\n    .dataframe tbody tr th {\n        vertical-align: top;\n    }\n\n    .dataframe thead th {\n        text-align: right;\n    }\n</style>\n<table border=\"1\" class=\"dataframe\">\n  <thead>\n    <tr style=\"text-align: right;\">\n      <th></th>\n      <th>Id</th>\n      <th>KitchenQual</th>\n      <th>FullBath</th>\n      <th>SalePrice</th>\n    </tr>\n  </thead>\n  <tbody>\n    <tr>\n      <th>0</th>\n      <td>2</td>\n      <td>TA</td>\n      <td>2</td>\n      <td>181500</td>\n    </tr>\n    <tr>\n      <th>1</th>\n      <td>8</td>\n      <td>TA</td>\n      <td>2</td>\n      <td>200000</td>\n    </tr>\n    <tr>\n      <th>2</th>\n      <td>9</td>\n      <td>TA</td>\n      <td>2</td>\n      <td>129900</td>\n    </tr>\n    <tr>\n      <th>3</th>\n      <td>18</td>\n      <td>TA</td>\n      <td>2</td>\n      <td>90000</td>\n    </tr>\n    <tr>\n      <th>4</th>\n      <td>41</td>\n      <td>TA</td>\n      <td>2</td>\n      <td>160000</td>\n    </tr>\n    <tr>\n      <th>...</th>\n      <td>...</td>\n      <td>...</td>\n      <td>...</td>\n      <td>...</td>\n    </tr>\n    <tr>\n      <th>241</th>\n      <td>1440</td>\n      <td>TA</td>\n      <td>2</td>\n      <td>197000</td>\n    </tr>\n    <tr>\n      <th>242</th>\n      <td>1441</td>\n      <td>TA</td>\n      <td>2</td>\n      <td>191000</td>\n    </tr>\n    <tr>\n      <th>243</th>\n      <td>1451</td>\n      <td>TA</td>\n      <td>2</td>\n      <td>136000</td>\n    </tr>\n    <tr>\n      <th>244</th>\n      <td>1456</td>\n      <td>TA</td>\n      <td>2</td>\n      <td>175000</td>\n    </tr>\n    <tr>\n      <th>245</th>\n      <td>1457</td>\n      <td>TA</td>\n      <td>2</td>\n      <td>210000</td>\n    </tr>\n  </tbody>\n</table>\n<p>246 rows × 4 columns</p>\n</div>"
     },
     "execution_count": 6,
     "metadata": {},
     "output_type": "execute_result"
    }
   ],
   "source": [
    "# your code here\n",
    "query=\"\"\"\n",
    "          SELECT Id,KitchenQual,FullBath, SalePrice \n",
    "          FROM  Houses \n",
    "          WHERE Houses.KitchenQual LIKE 'TA' AND FullBath >=2;\n",
    "\"\"\"\n",
    "df=execute_query(query)\n",
    "df"
   ]
  }
 ],
 "metadata": {
  "kernelspec": {
   "display_name": "Python 3",
   "language": "python",
   "name": "python3"
  },
  "language_info": {
   "name": "python",
   "version": "3.11.4"
  },
  "orig_nbformat": 4
 },
 "nbformat": 4,
 "nbformat_minor": 2
}
