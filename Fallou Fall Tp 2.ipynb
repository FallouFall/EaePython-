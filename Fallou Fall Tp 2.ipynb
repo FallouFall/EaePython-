{
 "cells": [
  {
   "cell_type": "markdown",
   "source": [
    "#VERSION 1.0\n",
    "#DATE 30-11-2023\n",
    "#FALLOU FALL EAE MASTER BIG DATA ANALYTICS\n",
    "#SOURCE:https://github.com/FallouFall/EaePython-\n",
    "#Prof : M.Domingo Domenech, Enric "
   ],
   "metadata": {
    "collapsed": false
   }
  },
  {
   "cell_type": "markdown",
   "source": [
    "Ex. 1\n",
    "\n",
    "Write a program that detects how many times the substring \"2023\" appears in a text story and then it replaces all the occurrences of \"2023\" with \"2024\"."
   ],
   "metadata": {
    "collapsed": false
   }
  },
  {
   "cell_type": "code",
   "execution_count": 1,
   "metadata": {
    "ExecuteTime": {
     "end_time": "2023-12-21T11:58:08.900668800Z",
     "start_time": "2023-12-21T11:58:08.822141800Z"
    }
   },
   "outputs": [
    {
     "name": "stdout",
     "output_type": "stream",
     "text": [
      "The Substring 2023 appears 9 TIME in the Text Story\n",
      "\n",
      "---------------------------Replacing 2023 by 2024  in the Text Story---------------------------\n",
      "\n",
      "In the year 2024, humanity had made a significant leap in technology. It was in 2024 when we finally established the first human colony on Mars. The project, aptly named \"Mars 2024\", was a testament to human will and innovation.\n",
      "\n",
      "The world watched in anticipation as the first crew members of Mars 2024 took their first steps on the red planet. It was a moment that echoed Neil Armstrong's historic moon landing, but this time in the year 2024, and on a whole new planet.\n",
      "\n",
      "Back on Earth, in 2024, people celebrated this achievement. It was a beacon of hope in a world that had seen its share of challenges. The year 2024 marked a new era for humanity, one where the stars were no longer out of our reach.\n",
      "\n",
      "By the end of 2024, we had not only reached Mars but created a sustainable living environment there. The year 2024 will forever be remembered as the year we truly became a space-faring civilization.\n"
     ]
    }
   ],
   "source": [
    "# Your code here\n",
    "story = \"\"\"In the year 2023, humanity had made a significant leap in technology. It was in 2023 when we finally established the first human colony on Mars. The project, aptly named \"Mars 2023\", was a testament to human will and innovation.\n",
    "\n",
    "The world watched in anticipation as the first crew members of Mars 2023 took their first steps on the red planet. It was a moment that echoed Neil Armstrong's historic moon landing, but this time in the year 2023, and on a whole new planet.\n",
    "\n",
    "Back on Earth, in 2023, people celebrated this achievement. It was a beacon of hope in a world that had seen its share of challenges. The year 2023 marked a new era for humanity, one where the stars were no longer out of our reach.\n",
    "\n",
    "By the end of 2023, we had not only reached Mars but created a sustainable living environment there. The year 2023 will forever be remembered as the year we truly became a space-faring civilization.\n",
    "\"\"\"\n",
    "# counting the number of appearances of the substring '2023'\n",
    "oldOccurence='2023'\n",
    "newOccurencence='2024'\n",
    "print(f'The Substring {oldOccurence} appears {story.count(oldOccurence)} TIME in the Text Story\\n')\n",
    "# counting the number of appearances of the substring '2023'\n",
    "story=story.replace(oldOccurence,newOccurencence)\n",
    "print(f'---------------------------Replacing {oldOccurence} by {newOccurencence}  in the Text Story---------------------------\\n')\n",
    "print(story)\n"
   ]
  },
  {
   "cell_type": "code",
   "execution_count": 18,
   "metadata": {
    "ExecuteTime": {
     "end_time": "2023-11-29T20:36:49.163179200Z",
     "start_time": "2023-11-29T20:36:49.076496500Z"
    }
   },
   "outputs": [],
   "source": []
  },
  {
   "cell_type": "markdown",
   "metadata": {},
   "source": [
    "#### Ex. 2\n",
    "\n",
    "Write a program that given a list of lists of numbers, representing the salaries of the employees of a company in each team, prints the maximum value of each team. It has to use a loop to iterate through every team and find its maximum value to print it. \n",
    "\n",
    "Then calculate the total number of employees in the comany accross all the teams. (with code, not by hand, of course)."
   ]
  },
  {
   "cell_type": "code",
   "execution_count": 6,
   "metadata": {
    "ExecuteTime": {
     "end_time": "2023-12-21T12:03:32.282625700Z",
     "start_time": "2023-12-21T12:03:32.113348Z"
    }
   },
   "outputs": [
    {
     "name": "stdout",
     "output_type": "stream",
     "text": [
      "272500\n",
      " MAX SALARY OF Team 1 is: 43.000,00 €\n",
      " MAX SALARY OF Team 2 is: 22.000,00 €\n",
      " MAX SALARY OF Team 3 is: 15.000,00 €\n",
      " MAX SALARY OF Team 4 is: 19.500,00 €\n",
      " Number of Employee Accross all teams is: 18\n"
     ]
    }
   ],
   "source": [
    "from babel.numbers import format_currency\n",
    "salaries_per_team = [\n",
    "    [14000, 8700, 12000, 43000], \n",
    "    [10000, 12000, 10000, 22000, 14500, 19700], \n",
    "    [9000, 15000, 10300], \n",
    "    [16200, 7500, 11000, 18100, 19500]\n",
    "]\n",
    "# Calculate the maximum salary of each team and print it\n",
    "j=0\n",
    "numberOfEmployees=0\n",
    "for e in salaries_per_team:\n",
    "    print(f\" MAX SALARY OF Team {j+1} is: {format_currency(max(e), 'EUR', locale='es_ES')}\")                                     \n",
    "    j+=1\n",
    "# Calculate the total number of employees in the company accross all teams and print it\n",
    "    numberOfEmployees=numberOfEmployees+len(e) \n",
    "    #{:,}thousand separator or round \n",
    "print(f' Number of Employee Accross all teams is: {numberOfEmployees:,}' )"
   ]
  },
  {
   "cell_type": "markdown",
   "metadata": {},
   "source": [
    "#### Ex 3. \n",
    "\n",
    "Now create a function that given the previous list, it returns another list with the total sum of salaries of each team. It has to create a list for the total salaries of each team, and create a loop that iterates over all teams and sums the salaries of each employee."
   ]
  },
  {
   "cell_type": "code",
   "execution_count": 5,
   "outputs": [
    {
     "name": "stdout",
     "output_type": "stream",
     "text": [
      "------------------------------------------------------Salary of each team---------------------------\n",
      "Salary of each team 1 is : 77.700,00 €\n",
      "Salary of each team 2 is : 88.200,00 €\n",
      "Salary of each team 3 is : 34.300,00 €\n",
      "Salary of each team 4 is : 72.300,00 €\n",
      "\n",
      "----------------------------------------------------Salary of each team  ----------------------\n",
      "Salary Total Accross The teams is  :272.500,00 €\n"
     ]
    }
   ],
   "source": [
    "\n",
    "\n",
    "def calculate_total_teams_salaries_list ( salaries_per_team ) :\n",
    "    total_team_salaries = [ ]  #Sum of salarieEachTeam#       #usage of labda expression \n",
    "    total_team_salaries = [ sum ( this ) for this in salaries_per_team ]\n",
    "    return total_team_salaries\n",
    "\n",
    "\n",
    "teamSalary = calculate_total_teams_salaries_list ( salaries_per_team )\n",
    "totalSalary = sum ( teamSalary )\n",
    "j = 0\n",
    "print ( \"------------------------------------------------------Salary of each team---------------------------\" )\n",
    "for i in teamSalary :\n",
    "    print ( f\"Salary of each team {j + 1} is : {format_currency ( i , 'EUR' , locale = 'es_ES' )}\" )\n",
    "    j += 1\n",
    "print ( \"\\n----------------------------------------------------Salary of each team  ----------------------\" )\n",
    "#Currency convertor from babel librery\n",
    "print ( f\"Salary Total Accross The teams is  :{format_currency ( totalSalary , 'EUR' , locale = 'es_ES' )}\" )\n",
    "\n"
   ],
   "metadata": {
    "collapsed": false,
    "ExecuteTime": {
     "end_time": "2023-12-21T12:02:13.708105100Z",
     "start_time": "2023-12-21T12:02:13.584197900Z"
    }
   }
  },
  {
   "cell_type": "code",
   "execution_count": 3,
   "metadata": {
    "ExecuteTime": {
     "end_time": "2023-12-06T18:57:10.077834100Z",
     "start_time": "2023-12-06T18:57:10.055461800Z"
    }
   },
   "outputs": [
    {
     "name": "stdout",
     "output_type": "stream",
     "text": [
      "Your function is correct!\n"
     ]
    }
   ],
   "source": [
    "# Don't modify this. If your function works correctly, this cell won't return any error\n",
    "\n",
    "assert calculate_total_teams_salaries_list(salaries_per_team) == [77700, 88200, 34300, 72300]\n",
    "\n",
    "print(\"Your function is correct!\")"
   ]
  },
  {
   "cell_type": "code",
   "execution_count": null,
   "outputs": [],
   "source": [],
   "metadata": {
    "collapsed": false
   }
  },
  {
   "cell_type": "markdown",
   "metadata": {},
   "source": [
    "#### Ex 4.\n",
    "\n",
    "Write a function called check_divisible that receives two numbers as arguments and returns True if the first number is divisible by the second number and False otherwise."
   ]
  },
  {
   "cell_type": "code",
   "execution_count": 4,
   "metadata": {
    "ExecuteTime": {
     "end_time": "2023-12-06T18:57:13.164392Z",
     "start_time": "2023-12-06T18:57:13.146220Z"
    }
   },
   "outputs": [
    {
     "name": "stdout",
     "output_type": "stream",
     "text": [
      "True\n",
      "True\n",
      "False\n",
      "True\n",
      "True\n",
      "True\n"
     ]
    }
   ],
   "source": [
    "# Complete the function\n",
    "def check_divisible(num1, num2):   \n",
    "    if num2==0:\n",
    "        return  False\n",
    "    elif num1 % num2==0:    \n",
    "        return True;\n",
    "    else: return False       \n",
    "    # Your code here\n",
    "    \n",
    "print( check_divisible(9, 3))\n",
    "print (check_divisible(9, 3) ) \n",
    "print (check_divisible(10, 3) )\n",
    "print (check_divisible(10, 2) )\n",
    "print (check_divisible(10, 5) )\n",
    "print( check_divisible(1870, 34)) "
   ]
  },
  {
   "cell_type": "code",
   "execution_count": 87,
   "metadata": {
    "ExecuteTime": {
     "end_time": "2023-11-29T21:32:27.790847300Z",
     "start_time": "2023-11-29T21:32:27.720374100Z"
    }
   },
   "outputs": [
    {
     "name": "stdout",
     "output_type": "stream",
     "text": [
      "Your function is correct!\n"
     ]
    }
   ],
   "source": [
    "# Don't modify this. If your function works correctly, this cell won't return any error\n",
    "\n",
    "assert check_divisible(9, 3) == True\n",
    "assert check_divisible(10, 3) == False\n",
    "assert check_divisible(10, 2) == True\n",
    "assert check_divisible(10, 5) == True\n",
    "assert check_divisible(1870, 34) == True\n",
    "\n",
    "print(\"Your function is correct!\")\n"
   ]
  },
  {
   "cell_type": "markdown",
   "metadata": {},
   "source": [
    "#### Ex 5.\n",
    "\n",
    "Create a new function called add_chars that given two strings, it returns the sum of the total number of characters of both strings."
   ]
  },
  {
   "cell_type": "code",
   "execution_count": 48,
   "metadata": {
    "ExecuteTime": {
     "end_time": "2023-12-02T22:48:57.778959200Z",
     "start_time": "2023-12-02T22:48:57.729410Z"
    }
   },
   "outputs": [
    {
     "name": "stdout",
     "output_type": "stream",
     "text": [
      "2\n"
     ]
    }
   ],
   "source": [
    "# Your code here\n",
    "def add_chars(a,b):\n",
    "    return len(a)+len(b)\n",
    "print(add_chars('a','b'))"
   ]
  },
  {
   "cell_type": "code",
   "execution_count": null,
   "metadata": {},
   "outputs": [],
   "source": [
    "# Don't modify this. If your function works correctly, this cell won't return any error\n",
    "\n",
    "assert add_chars(\"a\", \"b\") == 2\n",
    "assert add_chars(\"Hello\", \"World\") == 10\n",
    "assert add_chars(\"abc\", \"defghijkl\") == 12\n",
    "\n",
    "print(\"Your function is correct!\")"
   ]
  }
 ],
 "metadata": {
  "kernelspec": {
   "display_name": "Python 3 (ipykernel)",
   "language": "python",
   "name": "python3"
  },
  "language_info": {
   "codemirror_mode": {
    "name": "ipython",
    "version": 3
   },
   "file_extension": ".py",
   "mimetype": "text/x-python",
   "name": "python",
   "nbconvert_exporter": "python",
   "pygments_lexer": "ipython3",
   "version": "3.12.0"
  }
 },
 "nbformat": 4,
 "nbformat_minor": 4
}
