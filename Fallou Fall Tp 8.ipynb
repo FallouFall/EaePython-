{
 "cells": [
  {
   "cell_type": "code",
   "execution_count": null,
   "outputs": [],
   "source": [
    "  #VERSION 1.0 \n",
    "# #DATE 20-12-2023 \n",
    "# #FALLOU FALL EAE MASTER BIG DATA ANALYTICS \n",
    "#SOURCE:https://github.com/FallouFall/EaePython- \n",
    "# #Prof : M.Domingo Domenech, Enric"
   ],
   "metadata": {
    "collapsed": false
   }
  },
  {
   "cell_type": "markdown",
   "source": [
    "1- Create a basic calculator program that asks the user for one number (num1), then and operator from its character (\"+\", \"-\", \"*\", \"/\") and then another number (num2). The program should print the result of the operation."
   ],
   "metadata": {
    "collapsed": false
   }
  },
  {
   "cell_type": "code",
   "execution_count": 44,
   "outputs": [
    {
     "name": "stdout",
     "output_type": "stream",
     "text": [
      "12.0 / 2.0 are: 6.0\n"
     ]
    }
   ],
   "source": [
    "num1 = 0\n",
    "num2 = 0\n",
    "\n",
    "while True :\n",
    "    try :\n",
    "        num1 = float(input(\"enter the first number:\"))\n",
    "        break\n",
    "    except ValueError :\n",
    "        print(\"Please input integer only...\")\n",
    "operator = input(\"enter the operator\")\n",
    "while True :\n",
    "    try :\n",
    "        num2 = float(input(\"enter the second number:\"))\n",
    "        break\n",
    "    except ValueError :\n",
    "        print(\"Please input integer only...\")\n",
    "        continue\n",
    "sign = ['+' , '*' , '/' , '-']\n",
    "if operator in sign :\n",
    "    if operator == \"+\" :\n",
    "        print(f\"{num1} + {num2} are: {num1 + num2}\")\n",
    "    elif operator == \"-\" :\n",
    "        print(f\"{num1} - {num2} are: {num1 - num2}\")\n",
    "    elif operator == \"*\" :\n",
    "        print(f\"{num1} * {num2} are: {num1 * num2}\")\n",
    "    elif operator == \"/\" and num2 == 0 :\n",
    "        print(f\"IMPOSSIBLE\")\n",
    "    elif operator == \"/\" and num2 != 0 :\n",
    "        print(f\"{num1} / {num2} are: {num1 / num2}\")\n",
    "else :\n",
    "    print(\" please enter an valid operator\")\n"
   ],
   "metadata": {
    "collapsed": false
   }
  },
  {
   "cell_type": "markdown",
   "source": [
    "2- Write a program that asks the user for a number and prints the sum of its digits. For example, if the user enters 1234, the program should print 10 (1+2+3+4)."
   ],
   "metadata": {
    "collapsed": false
   }
  },
  {
   "cell_type": "code",
   "execution_count": null,
   "outputs": [],
   "source": [
    "  # your code here"
   ],
   "metadata": {
    "collapsed": false
   }
  },
  {
   "cell_type": "code",
   "execution_count": 1,
   "outputs": [
    {
     "name": "stdout",
     "output_type": "stream",
     "text": [
      "The sum of numbers :9  is: 4+5\n"
     ]
    }
   ],
   "source": [
    "number = 0\n",
    "while True :\n",
    "    try :\n",
    "        number = input(\"Enter a  number:\")\n",
    "        break\n",
    "    except ValueError :\n",
    "        print(\"Please input integer only...\")\n",
    "        continue\n",
    "\n",
    "som = 0  # result of the addittion\n",
    "eachChar = []  #help a signe + between the number\n",
    "for i in number :\n",
    "    som = som + int(i)\n",
    "    eachChar.append(i)\n",
    "signe = '+'.join(str(i) for i in eachChar)\n",
    "print(f\"The sum of numbers :{som}  is: {signe}\")"
   ],
   "metadata": {
    "collapsed": false,
    "ExecuteTime": {
     "end_time": "2023-12-21T12:58:50.147900Z",
     "start_time": "2023-12-21T12:58:47.879738Z"
    }
   }
  },
  {
   "cell_type": "markdown",
   "source": [
    "\\3- You have to write a program for a submarine that is diving into the ocean and scanning the depth of it. You will receive a list of depth measurements and you have to count how many times the next read in the sequence is deeper than the previous one. \n",
    "\n",
    "For example, if you receive the list [32, 43, 40, 38, 53, 56, 50], the program should print 3 as there are 3 reads which are larger than their previous ones: (32 -> 43), (38 -> 53), (53 -> 56)."
   ],
   "metadata": {
    "collapsed": false
   }
  },
  {
   "cell_type": "code",
   "execution_count": 47,
   "outputs": [
    {
     "name": "stdout",
     "output_type": "stream",
     "text": [
      "239\n"
     ]
    }
   ],
   "source": [
    "import random\n",
    "\n",
    "depth_reads = [random.randint(150 , 400) for _ in range(500)]\n",
    "# your code here\n",
    "compteur = 0\n",
    "for this in range(len(depth_reads) - 1) :\n",
    "    if depth_reads [this + 1] - depth_reads [this] > 0 :\n",
    "        compteur = compteur + 1\n",
    "print(compteur)"
   ],
   "metadata": {
    "collapsed": false
   }
  },
  {
   "cell_type": "code",
   "execution_count": null,
   "outputs": [],
   "source": [],
   "metadata": {
    "collapsed": false
   }
  },
  {
   "cell_type": "markdown",
   "source": [
    "4- Write a function that calculates the N first fibonacci numbers and prints them. \n",
    "\n",
    "Remember: The Fibonacci sequence is a sequence of numbers where each number is the sum of the two previous ones. The first two numbers of the Fibonacci sequence are 0 and 1, then the next number is 1 (0+1), the next is 2 (1+1), the next is 3 (1+2), the next is 5 (2+3), and so on: [0, 1, 1, 2, 3, 5, 8, 13, 21, 34, ...]."
   ],
   "metadata": {
    "collapsed": false
   }
  },
  {
   "cell_type": "code",
   "execution_count": 2,
   "outputs": [
    {
     "name": "stdout",
     "output_type": "stream",
     "text": [
      "[0, 1, 1, 2, 3, 5, 8, 13, 21, 34]\n"
     ]
    }
   ],
   "source": [
    "  # your code here\n",
    "while True :\n",
    "    try :\n",
    "        number = int(input(\"Enter a  number to Caluclate the Fibonacci Serie:\"))\n",
    "        break\n",
    "    except ValueError :\n",
    "        print(\"Please input integer only...\")\n",
    "        continue\n",
    "\n",
    "\n",
    "def fibonacciSerie(any) :\n",
    "    an = 0\n",
    "    bn = 1\n",
    "    result = [0 , ]\n",
    "    while bn < any :\n",
    "        result.append(bn)\n",
    "        temporary = an\n",
    "        an = bn\n",
    "        bn = temporary + bn\n",
    "    return result\n",
    "\n",
    "\n",
    "print(fibonacciSerie(number))"
   ],
   "metadata": {
    "collapsed": false,
    "ExecuteTime": {
     "end_time": "2023-12-21T12:59:24.569699900Z",
     "start_time": "2023-12-21T12:59:22.578152800Z"
    }
   }
  },
  {
   "cell_type": "code",
   "execution_count": 1,
   "outputs": [],
   "source": [
    "\n"
   ],
   "metadata": {
    "collapsed": false
   }
  },
  {
   "cell_type": "markdown",
   "source": [
    "5- Write a function that receives a list of numbers and returns those who are multiple of 3, 5, 7, and 9. The result has to be a dictionary with the keys \"3\", \"5\", \"7\", and \"9\" and the values the list of numbers that are multiple of each key. Then, convert that dictionary result into a string and save it in a file called \"multiples.txt\".\n",
    "\n",
    "For example, if the input is [1, 2, 3, 4, 5, 6, 7, 8, 9], the output should be {\"3\": [3, 6, 9], \"5\": [5], \"7\": [7], \"9\": [9]}."
   ],
   "metadata": {
    "collapsed": false
   }
  },
  {
   "cell_type": "code",
   "execution_count": 69,
   "outputs": [
    {
     "name": "stdout",
     "output_type": "stream",
     "text": [
      "{3: [51, 54, 57, 60, 63, 66, 69, 72, 75, 78, 81, 84, 87, 90, 93, 96, 99, 102, 105, 108, 111, 114, 117, 120, 123, 126, 129, 132, 135, 138, 141, 144, 147], 5: [50, 55, 60, 65, 70, 75, 80, 85, 90, 95, 100, 105, 110, 115, 120, 125, 130, 135, 140, 145], 7: [56, 63, 70, 77, 84, 91, 98, 105, 112, 119, 126, 133, 140, 147], 9: [54, 63, 72, 81, 90, 99, 108, 117, 126, 135, 144]}\n"
     ]
    }
   ],
   "source": [
    "nums = [n for n in range (50 , 150)]\n",
    "# your code here\n",
    "myDictionnary = { 3 : [this for this in nums if this % 3 == 0] ,\n",
    "                  5 : [this for this in nums if this % 5 == 0] ,\n",
    "                  7 : [this for this in nums if this % 7 == 0] ,\n",
    "                  9 : [this for this in nums if this % 9 == 0] ,\n",
    "                  }\n",
    "with open (\"multiple.txt\" , \"w+\") as dictionnaryFile :\n",
    "    dictionnaryFile.write (myDictionnary.__str__ ( ))\n",
    "print (myDictionnary)\n",
    "\n",
    "\n"
   ],
   "metadata": {
    "collapsed": false
   }
  },
  {
   "cell_type": "markdown",
   "source": [
    "---\n",
    "## 7. Exercises"
   ],
   "metadata": {
    "collapsed": false
   }
  },
  {
   "cell_type": "code",
   "execution_count": null,
   "outputs": [],
   "source": [
    "  # They will be uploaded later\n"
   ],
   "metadata": {
    "collapsed": false
   }
  }
 ],
 "metadata": {
  "kernelspec": {
   "display_name": "venv",
   "language": "python",
   "name": "python3"
  },
  "language_info": {
   "codemirror_mode": {
    "name": "ipython",
    "version": 3
   },
   "file_extension": ".py",
   "mimetype": "text/x-python",
   "name": "python",
   "nbconvert_exporter": "python",
   "pygments_lexer": "ipython3",
   "version": "3.11.5"
  }
 },
 "nbformat": 4,
 "nbformat_minor": 2
}
