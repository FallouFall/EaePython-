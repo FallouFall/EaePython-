{
 "cells": [
  {
   "cell_type": "code",
   "execution_count": 1,
   "id": "initial_id",
   "metadata": {
    "ExecuteTime": {
     "end_time": "2023-11-27T11:10:32.320809700Z",
     "start_time": "2023-11-27T11:10:28.031183700Z"
    }
   },
   "outputs": [
    {
     "name": "stdout",
     "output_type": "stream",
     "text": [
      "---------------BMI CALCULATION---------------\n",
      "\n",
      "Height in cm:\n"
     ]
    },
    {
     "name": "stdin",
     "output_type": "stream",
     "text": [
      " 180\n"
     ]
    },
    {
     "name": "stdout",
     "output_type": "stream",
     "text": [
      "Weight in Kg:\n"
     ]
    },
    {
     "name": "stdin",
     "output_type": "stream",
     "text": [
      " 70\n"
     ]
    },
    {
     "name": "stdout",
     "output_type": "stream",
     "text": [
      "THE  BMI IS :21.6\n"
     ]
    }
   ],
   "source": [
    "# Your code goes here:\n",
    "print('---------------BMI CALCULATION---------------\\n')\n",
    "print('Height in cm:')\n",
    "height=input()\n",
    "print('Weight in Kg:')\n",
    "weight=input()\n",
    "height= float(height)*0.01\n",
    "weight=float(weight)\n",
    "# we use round to limit decimal to 2 decimal\n",
    "# alternative use format y='{:.2f}'.format(bmi)\n",
    "bmi= round(weight/height**2,2)\n",
    "print('THE  BMI IS :'+str(bmi))"
   ]
  },
  {
   "cell_type": "code",
   "execution_count": 4,
   "id": "f3a3af54fa30ba58",
   "metadata": {
    "ExecuteTime": {
     "end_time": "2023-11-27T00:13:40.203775700Z",
     "start_time": "2023-11-27T00:13:37.880283300Z"
    },
    "collapsed": false,
    "jupyter": {
     "outputs_hidden": false
    }
   },
   "outputs": [
    {
     "name": "stdout",
     "output_type": "stream",
     "text": [
      "---------------------Convert Fahrenheit to Celcius-----------\n",
      "\n",
      "Enter the temperature in C °\n",
      "Todays temperature is °356 degrees Fahrenheit \n"
     ]
    }
   ],
   "source": [
    "print('---------------------Convert Fahrenheit to Celcius-----------\\n')\n",
    "print('Enter the temperature in C °')\n",
    "celciusTemp=input()\n",
    "#usage of floor division to avoid the decimal\n",
    "fehrTemp= (int(celciusTemp) * 9//5) + 32\n",
    "print('Todays temperature is °'+ str(fehrTemp) +' degrees Fahrenheit ')"
   ]
  },
  {
   "cell_type": "code",
   "execution_count": 5,
   "id": "15ec6783b6cfd216",
   "metadata": {
    "ExecuteTime": {
     "end_time": "2023-11-27T00:13:42.363230900Z",
     "start_time": "2023-11-27T00:13:42.341771700Z"
    },
    "collapsed": false,
    "jupyter": {
     "outputs_hidden": false
    }
   },
   "outputs": [
    {
     "name": "stdout",
     "output_type": "stream",
     "text": [
      "The result of 2 + 2 is 4\n"
     ]
    }
   ],
   "source": [
    "# Modify the following line in order to fix it:\n",
    "print(\"The result of 2 + 2 is \" + str (2 + 2))"
   ]
  },
  {
   "cell_type": "code",
   "execution_count": 6,
   "id": "7355c02bf308b79e",
   "metadata": {
    "ExecuteTime": {
     "end_time": "2023-11-27T00:13:44.472197300Z",
     "start_time": "2023-11-27T00:13:44.433761400Z"
    },
    "collapsed": false,
    "jupyter": {
     "outputs_hidden": false
    }
   },
   "outputs": [
    {
     "name": "stdout",
     "output_type": "stream",
     "text": [
      "This is working!\n"
     ]
    }
   ],
   "source": [
    "message = \"This is working!\"\n",
    "# Modify the following line in order to fix it:\n",
    "print (message)"
   ]
  },
  {
   "cell_type": "code",
   "execution_count": 6,
   "id": "e9e14d27611c28bb",
   "metadata": {
    "ExecuteTime": {
     "end_time": "2023-11-27T00:13:46.076007900Z",
     "start_time": "2023-11-27T00:13:46.064037100Z"
    },
    "collapsed": false,
    "jupyter": {
     "outputs_hidden": false
    }
   },
   "outputs": [],
   "source": []
  },
  {
   "cell_type": "code",
   "execution_count": null,
   "id": "84c26ed322d8b6a0",
   "metadata": {
    "collapsed": false,
    "jupyter": {
     "outputs_hidden": false
    }
   },
   "outputs": [],
   "source": []
  }
 ],
 "metadata": {
  "kernelspec": {
   "display_name": "Python 3 (ipykernel)",
   "language": "python",
   "name": "python3"
  },
  "language_info": {
   "codemirror_mode": {
    "name": "ipython",
    "version": 3
   },
   "file_extension": ".py",
   "mimetype": "text/x-python",
   "name": "python",
   "nbconvert_exporter": "python",
   "pygments_lexer": "ipython3",
   "version": "3.12.0"
  }
 },
 "nbformat": 4,
 "nbformat_minor": 5
}
