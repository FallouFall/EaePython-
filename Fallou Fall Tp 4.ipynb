{
 "cells": [
  {
   "cell_type": "code",
   "execution_count": null,
   "outputs": [],
   "source": [
    "#VERSION 1.0 \n",
    "# #DATE 15-12-2023 \n",
    "# #FALLOU FALL EAE MASTER BIG DATA ANALYTICS \n",
    "#SOURCE:https://github.com/FallouFall/EaePython- \n",
    "# #Prof : M.Domingo Domenech, Enric"
   ],
   "metadata": {
    "collapsed": false
   }
  },
  {
   "cell_type": "markdown",
   "metadata": {},
   "source": [
    "---\n",
    "## 5. Exercisises"
   ]
  },
  {
   "cell_type": "markdown",
   "metadata": {
    "vscode": {
     "languageId": "plaintext"
    }
   },
   "source": [
    "#### Ex 1.\n",
    "\n",
    "Create a new module that will have 2 functions:\n",
    "- **separate_odd_even(nums)**: The first one will receive a list of integer numbers and return two separate list, one with the odd numbers and the other one with the even ones.\n",
    "\n",
    "    for example: separate_odd_even([1,2,3,4,5,6,7,8,9]) -> [1,3,5,7,9], [2,4,6,8]\n",
    "\n",
    "- **search_max_char(text)**: The second function will be receive a text and output the most common letter character in that text and how many times it appears.\n",
    "\n",
    "    for example: most_common_letter(\"Hello World\") -> \"l\", 3\n",
    "\n",
    "Then import that module in the following cell and call them with two basic examples.\n",
    "\n",
    "Make sure to submit the module python file to the assignment submission!!"
   ]
  },
  {
   "cell_type": "code",
   "execution_count": 1,
   "metadata": {
    "ExecuteTime": {
     "end_time": "2023-12-21T12:40:44.222668100Z",
     "start_time": "2023-12-21T12:40:44.195817300Z"
    }
   },
   "outputs": [
    {
     "name": "stdout",
     "output_type": "stream",
     "text": [
      "[1, 2, 3, 27, 4, 5, 6, 7, 8, 9]--> [[2, 4, 6, 8], [1, 3, 27, 5, 7, 9]]\n"
     ]
    }
   ],
   "source": [
    "from Module import separate_odd_even, search_max_char\n",
    "\n",
    "anyList = [1, 2, 3, 27, 4, 5, 6, 7, 8, 9]\n",
    "listSeparate=separate_odd_even(anyList)\n",
    "print(f\"{anyList}--> {listSeparate}\")\n",
    "\n"
   ]
  },
  {
   "cell_type": "code",
   "execution_count": 2,
   "metadata": {
    "collapsed": false,
    "ExecuteTime": {
     "end_time": "2023-12-21T12:40:47.386803900Z",
     "start_time": "2023-12-21T12:40:47.322614400Z"
    }
   },
   "outputs": [
    {
     "name": "stdout",
     "output_type": "stream",
     "text": [
      "Most common letter in Hello World --> [('l', 3)]\n"
     ]
    }
   ],
   "source": [
    "text = \"Hello World\"\n",
    "nmbChar = search_max_char(text)\n",
    "print(f\"Most common letter in {text} --> {nmbChar}\")"
   ]
  },
  {
   "cell_type": "markdown",
   "metadata": {
    "vscode": {
     "languageId": "plaintext"
    }
   },
   "source": [
    "#### Ex 2.\n",
    "\n",
    "Install the pandas library using pip, import it in the following cell and then run the following line to create a dataframe and prove that it works.\n",
    "\n",
    "```python   \n",
    "# <do something to install and import pandas>\n",
    "\n",
    "df = pd.DataFrame({\"col1\": [1, 2], \"col2\": [3, 4]})"
   ]
  },
  {
   "cell_type": "code",
   "execution_count": null,
   "metadata": {},
   "outputs": [],
   "source": [
    "# Your code here"
   ]
  },
  {
   "cell_type": "code",
   "execution_count": null,
   "metadata": {},
   "outputs": [],
   "source": []
  },
  {
   "cell_type": "code",
   "execution_count": 4,
   "metadata": {
    "ExecuteTime": {
     "end_time": "2023-12-21T12:41:57.551358800Z",
     "start_time": "2023-12-21T12:41:55.039752700Z"
    }
   },
   "outputs": [
    {
     "data": {
      "text/plain": "   col1  col2\n0     1     3\n1     2     4",
      "text/html": "<div>\n<style scoped>\n    .dataframe tbody tr th:only-of-type {\n        vertical-align: middle;\n    }\n\n    .dataframe tbody tr th {\n        vertical-align: top;\n    }\n\n    .dataframe thead th {\n        text-align: right;\n    }\n</style>\n<table border=\"1\" class=\"dataframe\">\n  <thead>\n    <tr style=\"text-align: right;\">\n      <th></th>\n      <th>col1</th>\n      <th>col2</th>\n    </tr>\n  </thead>\n  <tbody>\n    <tr>\n      <th>0</th>\n      <td>1</td>\n      <td>3</td>\n    </tr>\n    <tr>\n      <th>1</th>\n      <td>2</td>\n      <td>4</td>\n    </tr>\n  </tbody>\n</table>\n</div>"
     },
     "execution_count": 4,
     "metadata": {},
     "output_type": "execute_result"
    }
   ],
   "source": [
    "import pandas as pd\n",
    "\n",
    "df = pd.DataFrame({ \"col1\": [1, 2], \"col2\": [3, 4] })\n",
    "df"
   ]
  },
  {
   "cell_type": "code",
   "execution_count": 5,
   "metadata": {
    "ExecuteTime": {
     "end_time": "2023-12-21T12:42:01.645838900Z",
     "start_time": "2023-12-21T12:42:01.432654300Z"
    }
   },
   "outputs": [
    {
     "name": "stdout",
     "output_type": "stream",
     "text": [
      "Working:Colomn 1 display\n"
     ]
    },
    {
     "data": {
      "text/plain": "0    1\n1    2\nName: col1, dtype: int64"
     },
     "execution_count": 5,
     "metadata": {},
     "output_type": "execute_result"
    }
   ],
   "source": [
    "print(\"Working:Colomn 1 display\")\n",
    "columns1=df['col1']\n",
    "columns1"
   ]
  },
  {
   "cell_type": "code",
   "execution_count": 6,
   "metadata": {
    "ExecuteTime": {
     "end_time": "2023-12-21T12:42:05.355252600Z",
     "start_time": "2023-12-21T12:42:05.251905500Z"
    }
   },
   "outputs": [
    {
     "name": "stdout",
     "output_type": "stream",
     "text": [
      "Working:Colomn 2 display\n"
     ]
    },
    {
     "data": {
      "text/plain": "0    3\n1    4\nName: col2, dtype: int64"
     },
     "execution_count": 6,
     "metadata": {},
     "output_type": "execute_result"
    }
   ],
   "source": [
    "print(\"Working:Colomn 2 display\")\n",
    "columns1=df['col2']\n",
    "columns1"
   ]
  },
  {
   "cell_type": "code",
   "execution_count": 9,
   "metadata": {
    "ExecuteTime": {
     "end_time": "2023-12-21T12:42:33.931333700Z",
     "start_time": "2023-12-21T12:42:33.807496400Z"
    }
   },
   "outputs": [
    {
     "name": "stdout",
     "output_type": "stream",
     "text": [
      "Working:Slicing Column 2  ILLOC Function\n"
     ]
    },
    {
     "data": {
      "text/plain": "col1    2\ncol2    4\nName: 1, dtype: int64"
     },
     "execution_count": 9,
     "metadata": {},
     "output_type": "execute_result"
    }
   ],
   "source": [
    "print(\"Working:Slicing Column 2  ILLOC Function\")\n",
    "df.iloc[1]"
   ]
  },
  {
   "cell_type": "code",
   "execution_count": 12,
   "metadata": {
    "ExecuteTime": {
     "end_time": "2023-12-21T12:42:58.707628900Z",
     "start_time": "2023-12-21T12:42:58.470960800Z"
    }
   },
   "outputs": [
    {
     "name": "stdout",
     "output_type": "stream",
     "text": [
      "Working:Slicing  first row  Function\n"
     ]
    },
    {
     "data": {
      "text/plain": "col1    1\ncol2    3\nName: 0, dtype: int64"
     },
     "execution_count": 12,
     "metadata": {},
     "output_type": "execute_result"
    }
   ],
   "source": [
    "print(\"Working:Slicing  first row  Function\")\n",
    "df.loc[0]"
   ]
  },
  {
   "cell_type": "code",
   "execution_count": 11,
   "metadata": {
    "ExecuteTime": {
     "end_time": "2023-12-21T12:42:49.247071700Z",
     "start_time": "2023-12-21T12:42:49.066944100Z"
    }
   },
   "outputs": [
    {
     "name": "stdout",
     "output_type": "stream",
     "text": [
      "Sum of two Column Value\n"
     ]
    },
    {
     "data": {
      "text/plain": "0    4\n1    6\ndtype: int64"
     },
     "execution_count": 11,
     "metadata": {},
     "output_type": "execute_result"
    }
   ],
   "source": [
    "print(\"Sum of two Column Value\")\n",
    "df[\"col1\"]+df[\"col2\"]"
   ]
  },
  {
   "cell_type": "code",
   "execution_count": 22,
   "metadata": {
    "ExecuteTime": {
     "end_time": "2023-12-15T18:21:39.635159300Z",
     "start_time": "2023-12-15T18:21:39.614268900Z"
    }
   },
   "outputs": [
    {
     "name": "stdout",
     "output_type": "stream",
     "text": [
      "Df +Df \n",
      "   col1  col2\n",
      "0     2     6\n",
      "1     4     8\n"
     ]
    }
   ],
   "source": [
    "print(\" Operation of :Df +Df \")\n",
    "print(df*2)"
   ]
  },
  {
   "cell_type": "code",
   "execution_count": 15,
   "metadata": {
    "ExecuteTime": {
     "end_time": "2023-12-21T12:43:33.843792800Z",
     "start_time": "2023-12-21T12:43:33.727697600Z"
    }
   },
   "outputs": [
    {
     "name": "stdout",
     "output_type": "stream",
     "text": [
      " Average \n",
      "<bound method DataFrame.mean of    col1  col2\n",
      "0     1     3\n",
      "1     2     4>\n"
     ]
    }
   ],
   "source": [
    "print(\" Average \")\n",
    "print(df.mean)"
   ]
  },
  {
   "cell_type": "code",
   "execution_count": 16,
   "metadata": {
    "ExecuteTime": {
     "end_time": "2023-12-21T12:43:37.818917600Z",
     "start_time": "2023-12-21T12:43:37.700390100Z"
    }
   },
   "outputs": [
    {
     "name": "stdout",
     "output_type": "stream",
     "text": [
      " Adding Column \n"
     ]
    },
    {
     "data": {
      "text/plain": "   col1  col2  col3  col4\n0     1     3    20    88\n1     2     4    23    48",
      "text/html": "<div>\n<style scoped>\n    .dataframe tbody tr th:only-of-type {\n        vertical-align: middle;\n    }\n\n    .dataframe tbody tr th {\n        vertical-align: top;\n    }\n\n    .dataframe thead th {\n        text-align: right;\n    }\n</style>\n<table border=\"1\" class=\"dataframe\">\n  <thead>\n    <tr style=\"text-align: right;\">\n      <th></th>\n      <th>col1</th>\n      <th>col2</th>\n      <th>col3</th>\n      <th>col4</th>\n    </tr>\n  </thead>\n  <tbody>\n    <tr>\n      <th>0</th>\n      <td>1</td>\n      <td>3</td>\n      <td>20</td>\n      <td>88</td>\n    </tr>\n    <tr>\n      <th>1</th>\n      <td>2</td>\n      <td>4</td>\n      <td>23</td>\n      <td>48</td>\n    </tr>\n  </tbody>\n</table>\n</div>"
     },
     "execution_count": 16,
     "metadata": {},
     "output_type": "execute_result"
    }
   ],
   "source": [
    "print(\" Adding Column \")\n",
    "df['col3']=[20,23]\n",
    "df['col4']=[88,48]\n",
    "df"
   ]
  },
  {
   "cell_type": "code",
   "execution_count": 17,
   "metadata": {
    "ExecuteTime": {
     "end_time": "2023-12-21T12:43:42.287276100Z",
     "start_time": "2023-12-21T12:43:42.151677600Z"
    }
   },
   "outputs": [
    {
     "name": "stdout",
     "output_type": "stream",
     "text": [
      " Slicing row  from 1 to 2<\n"
     ]
    },
    {
     "data": {
      "text/plain": "   col1  col2  col3  col4\n1     2     4    23    48",
      "text/html": "<div>\n<style scoped>\n    .dataframe tbody tr th:only-of-type {\n        vertical-align: middle;\n    }\n\n    .dataframe tbody tr th {\n        vertical-align: top;\n    }\n\n    .dataframe thead th {\n        text-align: right;\n    }\n</style>\n<table border=\"1\" class=\"dataframe\">\n  <thead>\n    <tr style=\"text-align: right;\">\n      <th></th>\n      <th>col1</th>\n      <th>col2</th>\n      <th>col3</th>\n      <th>col4</th>\n    </tr>\n  </thead>\n  <tbody>\n    <tr>\n      <th>1</th>\n      <td>2</td>\n      <td>4</td>\n      <td>23</td>\n      <td>48</td>\n    </tr>\n  </tbody>\n</table>\n</div>"
     },
     "execution_count": 17,
     "metadata": {},
     "output_type": "execute_result"
    }
   ],
   "source": [
    "print(\" Slicing row  from 1 to 2<\")\n",
    "df[1:2]\n"
   ]
  },
  {
   "cell_type": "code",
   "execution_count": 29,
   "metadata": {
    "ExecuteTime": {
     "end_time": "2023-12-15T18:35:01.151150200Z",
     "start_time": "2023-12-15T18:35:01.126867600Z"
    }
   },
   "outputs": [
    {
     "name": "stdout",
     "output_type": "stream",
     "text": [
      "Sorting \n"
     ]
    },
    {
     "data": {
      "text/plain": "   col1  col2  col3  col4\n0     1     3    20    88\n1     2     4    23    48",
      "text/html": "<div>\n<style scoped>\n    .dataframe tbody tr th:only-of-type {\n        vertical-align: middle;\n    }\n\n    .dataframe tbody tr th {\n        vertical-align: top;\n    }\n\n    .dataframe thead th {\n        text-align: right;\n    }\n</style>\n<table border=\"1\" class=\"dataframe\">\n  <thead>\n    <tr style=\"text-align: right;\">\n      <th></th>\n      <th>col1</th>\n      <th>col2</th>\n      <th>col3</th>\n      <th>col4</th>\n    </tr>\n  </thead>\n  <tbody>\n    <tr>\n      <th>0</th>\n      <td>1</td>\n      <td>3</td>\n      <td>20</td>\n      <td>88</td>\n    </tr>\n    <tr>\n      <th>1</th>\n      <td>2</td>\n      <td>4</td>\n      <td>23</td>\n      <td>48</td>\n    </tr>\n  </tbody>\n</table>\n</div>"
     },
     "execution_count": 29,
     "metadata": {},
     "output_type": "execute_result"
    }
   ],
   "source": [
    "print(\"Sorting colum 4  \")\n",
    "df.sort_values('col4', ascending=False)"
   ]
  },
  {
   "cell_type": "code",
   "execution_count": 9,
   "metadata": {
    "ExecuteTime": {
     "end_time": "2023-12-19T16:35:54.268634400Z",
     "start_time": "2023-12-19T16:35:54.237518900Z"
    }
   },
   "outputs": [
    {
     "name": "stdout",
     "output_type": "stream",
     "text": [
      "deleting colum1   \n"
     ]
    },
    {
     "data": {
      "text/plain": "   col2  col3  col4\n0     3    20    88\n1     4    23    48",
      "text/html": "<div>\n<style scoped>\n    .dataframe tbody tr th:only-of-type {\n        vertical-align: middle;\n    }\n\n    .dataframe tbody tr th {\n        vertical-align: top;\n    }\n\n    .dataframe thead th {\n        text-align: right;\n    }\n</style>\n<table border=\"1\" class=\"dataframe\">\n  <thead>\n    <tr style=\"text-align: right;\">\n      <th></th>\n      <th>col2</th>\n      <th>col3</th>\n      <th>col4</th>\n    </tr>\n  </thead>\n  <tbody>\n    <tr>\n      <th>0</th>\n      <td>3</td>\n      <td>20</td>\n      <td>88</td>\n    </tr>\n    <tr>\n      <th>1</th>\n      <td>4</td>\n      <td>23</td>\n      <td>48</td>\n    </tr>\n  </tbody>\n</table>\n</div>"
     },
     "execution_count": 9,
     "metadata": {},
     "output_type": "execute_result"
    }
   ],
   "source": [
    "print(\"deleting colum1   \")\n",
    "df.drop('col1', axis=1, inplace=True)\n",
    "df"
   ]
  },
  {
   "cell_type": "code",
   "execution_count": 10,
   "metadata": {
    "ExecuteTime": {
     "end_time": "2023-12-19T16:35:58.268117200Z",
     "start_time": "2023-12-19T16:35:58.241357400Z"
    }
   },
   "outputs": [
    {
     "name": "stdout",
     "output_type": "stream",
     "text": [
      "Condition query on df  \n"
     ]
    },
    {
     "data": {
      "text/plain": "   col2  col3  col4\n0     3    20    88",
      "text/html": "<div>\n<style scoped>\n    .dataframe tbody tr th:only-of-type {\n        vertical-align: middle;\n    }\n\n    .dataframe tbody tr th {\n        vertical-align: top;\n    }\n\n    .dataframe thead th {\n        text-align: right;\n    }\n</style>\n<table border=\"1\" class=\"dataframe\">\n  <thead>\n    <tr style=\"text-align: right;\">\n      <th></th>\n      <th>col2</th>\n      <th>col3</th>\n      <th>col4</th>\n    </tr>\n  </thead>\n  <tbody>\n    <tr>\n      <th>0</th>\n      <td>3</td>\n      <td>20</td>\n      <td>88</td>\n    </tr>\n  </tbody>\n</table>\n</div>"
     },
     "execution_count": 10,
     "metadata": {},
     "output_type": "execute_result"
    }
   ],
   "source": [
    "print(\"Condition query on df  \")\n",
    "df.query('col4>50')"
   ]
  },
  {
   "cell_type": "code",
   "execution_count": null,
   "outputs": [],
   "source": [],
   "metadata": {
    "collapsed": false
   }
  }
 ],
 "metadata": {
  "kernelspec": {
   "display_name": "Python 3 (ipykernel)",
   "language": "python",
   "name": "python3"
  },
  "language_info": {
   "codemirror_mode": {
    "name": "ipython",
    "version": 3
   },
   "file_extension": ".py",
   "mimetype": "text/x-python",
   "name": "python",
   "nbconvert_exporter": "python",
   "pygments_lexer": "ipython3",
   "version": "3.12.0"
  }
 },
 "nbformat": 4,
 "nbformat_minor": 4
}
