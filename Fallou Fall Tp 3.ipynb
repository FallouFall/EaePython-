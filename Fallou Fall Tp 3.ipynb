{
 "cells": [
  {
   "cell_type": "markdown",
   "metadata": {},
   "source": [
    "#### Ex 1.\n",
    "\n",
    "Create a function that receives a list with different numbers and returns a list with the unique numbers, removing the repeated ones."
   ]
  },
  {
   "cell_type": "code",
   "execution_count": 1,
   "metadata": {},
   "outputs": [
    {
     "name": "stdout",
     "output_type": "stream",
     "text": [
      "[1, 2, 3, 4, 5]\n"
     ]
    }
   ],
   "source": [
    "  # Your code here\n",
    "def deleteDuplicate ( anyListeOfDuplicate ) :\n",
    "    #use identifier args in list to transformit in tuple \n",
    "    #because tuple dont have doublons \n",
    "    return [ *{ *anyListeOfDuplicate } ]\n",
    "\n",
    "\n",
    "duplicate = [ 1 , 2 , 3 , 4 , 5 , 1 , 2 , 3 , 4 , 5 ]\n",
    "duplicate = deleteDuplicate ( duplicate )\n",
    "print ( duplicate )\n"
   ]
  },
  {
   "cell_type": "markdown",
   "metadata": {
    "collapsed": false
   },
   "source": [
    "#### Ex 2.\n",
    "\n",
    "Word counter dictionary: create a function that receives a text string and returns a dictionary, being every key a different word in the text and every value the number of times each word appears in the string. The string won't have any punctuation marks, only words and spaces.\n",
    "\n",
    "For example, if the input is \"This blue ball is blue\" the output should be {\"This\": 1, \"blue\": 2, \"ball\": 1, \"is\": 1}."
   ]
  },
  {
   "cell_type": "code",
   "execution_count": 3,
   "metadata": {
    "ExecuteTime": {
     "end_time": "2023-12-21T12:17:19.793979600Z",
     "start_time": "2023-12-21T12:17:19.653943300Z"
    }
   },
   "outputs": [
    {
     "name": "stdout",
     "output_type": "stream",
     "text": [
      "{'There': '1', 'are': '1', 'so': '1', 'many': '1', 'cars': '2', 'in': '1', 'that': '1', 'street': '1', 'Every': '1', 'car': '2', 'is': '2', 'parked': '1', 'next': '1', 'to': '1', 'other': '1', 'My': '1', 'red': '1', 'but': '1', 'it': '1', 'looks': '1', 'fine': '1'}\n"
     ]
    }
   ],
   "source": [
    "import string\n",
    "\n",
    "example_text = \"\"\"There are so many  cars:? in that street. Every car is parked next to other cars. My car is red but it looks fine.\"\"\"\n",
    "# Usage of translate to delete all punctuation \n",
    "example_text = example_text.translate ( str.maketrans ( '' , '' , string.punctuation ) )\n",
    "textList = example_text.split ( )  #transform the text into list\n",
    "numebrAppareance = [ ]\n",
    "for i in textList:\n",
    "    num = textList.count ( i )\n",
    "    numebrAppareance.extend ( f'{num}' )\n",
    "#matching 1 by 1 ordered by column with zip\n",
    "new_dict = dict ( zip ( textList , numebrAppareance ) )\n",
    "print ( new_dict )\n"
   ]
  },
  {
   "cell_type": "markdown",
   "metadata": {},
   "source": [
    "#### Ex 3. \n",
    "\n",
    "Run the following cell to create the file for the exercise. The file contains at every line, the name of the company and its price, separated by a colon \":\" sign and at the end has the \"dollars\" string as the units. After running the cell you should see a stocks_prices.txt file in your folder.\n",
    "\n",
    "Your task is to end up with a dictionary with every company name as the key of every element and the value to be the float value of its price.\n",
    "To do it, you can open the file, read the entire content of it into a variable and split that long string by the new line character \"\\n\". Then you will have a list with every company information in a string. After that you can split that string of every line by the \n"
   ]
  },
  {
   "cell_type": "code",
   "execution_count": 5,
   "metadata": {},
   "outputs": [],
   "source": [
    "# Don't change this code, just make sure to run the cell before solving the exercise. \n",
    "\n",
    "stocks = \"\"\"Apple: 12.5 dollars\n",
    "Amazon: 5.0 dollars\n",
    "Nokia: 2 dollars\n",
    "Meta: 3.1 dollars\n",
    "Google: 7.1 dollars\n",
    "Tesla: 8.5 dollars \n",
    "Microsoft: 4.5 dollars\n",
    "Alibaba: 2.5 dollars\n",
    "Intel: 3.8 dollars\n",
    "ASML: 11.2 dollars\n",
    "\"\"\"\n",
    "\n",
    "with open(\"stocks_prices.txt\", \"w\") as f:\n",
    "    f.write(stocks)"
   ]
  },
  {
   "cell_type": "code",
   "execution_count": null,
   "metadata": {},
   "outputs": [],
   "source": [
    "# Your code here\n",
    "f = open(\"stocks_prices.txt\", \"r\")\n",
    "\n",
    "stock_info = f.read()\n",
    "\n",
    "stock_info_lines = stock_info.split(\"\\n\")\n",
    "\n",
    "stock_info_dict = {}\n",
    "\n",
    "for line in stock_info_lines:\n",
    "    if line != \"\":\n",
    "        company_info = line.split(\": \")\n",
    "\n",
    "        company_name = company_info[0]\n",
    "\n",
    "        price = company_info[1].strip(\" dollars\")\n",
    "        price = float(price)\n",
    "\n",
    "        stock_info_dict[company_name] = price\n",
    "\n",
    "stock_info_dict"
   ]
  },
  {
   "cell_type": "code",
   "execution_count": null,
   "metadata": {
    "collapsed": false
   },
   "outputs": [],
   "source": []
  },
  {
   "cell_type": "code",
   "execution_count": null,
   "metadata": {},
   "outputs": [],
   "source": [
    "stock_info_dict[\"Intel\"]"
   ]
  },
  {
   "cell_type": "code",
   "execution_count": null,
   "metadata": {
    "collapsed": false
   },
   "outputs": [],
   "source": [
    "stock_info_lines"
   ]
  },
  {
   "cell_type": "code",
   "execution_count": null,
   "metadata": {
    "collapsed": false
   },
   "outputs": [],
   "source": [
    "stock_info_dict = {}\n",
    "\n",
    "for line in stock_info_lines:\n",
    "    company_info = line.split(\": \")\n",
    "    print(\"company_info:\", company_info)\n",
    "\n",
    "    company_name = company_info[0]\n",
    "\n",
    "    price = company_info[1].strip(\" dollars\")\n",
    "    print(price)\n",
    "    price = float(price)\n",
    "\n",
    "    stock_info_dict[company_name] = price"
   ]
  },
  {
   "cell_type": "markdown",
   "metadata": {},
   "source": [
    "#### Ex 4.\n",
    "\n",
    "Create a Class Animal with the following attributes and methods:\n",
    "\n",
    "- attributes: name, age, weight, sound, species\n",
    "\n",
    "- methods:  \n",
    "    - eat: *gains 1kg*\n",
    "    - sleep: *prints \"zzz\"*\n",
    "    - run: *loses 1kg* \n",
    "    - make_sound: *prints the sound of the animal*"
   ]
  },
  {
   "cell_type": "code",
   "execution_count": 6,
   "metadata": {
    "ExecuteTime": {
     "end_time": "2023-12-02T20:44:09.519813500Z",
     "start_time": "2023-12-02T20:44:09.456270800Z"
    },
    "collapsed": false
   },
   "outputs": [],
   "source": [
    "import  itertools # i Wanna Create an generated Id \n",
    "class Animal:\n",
    "    \n",
    "    id=itertools.count()\n",
    "    def __init__(self):\n",
    "     self.id=next(Animal.id)\n",
    "\n",
    "          \n",
    "          \n",
    "     def __int__(self,name,age,weight,sound,species):\n",
    "        self.name=name\n",
    "        self.age=age\n",
    "        self.weight=weight\n",
    "        self.sound=sound\n",
    "        self.species=species\n",
    "        self.id=next(Animal.id)\n",
    "          \n",
    "    def eat(self,weight=1):\n",
    "        self.weight += weight\n",
    "        print(f\"\\nEAT: Animal numero {self.id}  Weights : {self.weight}\")\n",
    "    \n",
    "    def sleep(self,sleep=\"ZZZzzz\"):     \n",
    "        print(f\"\\nThe  Animal numero {self.id}  is Sleeping : {sleep}\")\n",
    "        \n",
    "        \n",
    "    def run(self,weight=1):\n",
    "        self.weight-= weight\n",
    "        print(f\"\\nWEIGHT: Animal numero {self.id}  Weights :{self.weight}\")\n",
    "    \n",
    "        \n",
    "    def make_sound(self):\n",
    "        print(f\"\\nThe animal number {self.id}Sounds like is:{self.sound}\")\n",
    "        \n",
    "    def __str__ (self):\n",
    "        print(f\"-------------------Animal Number:{self.id}------------------\"\n",
    "              f\"\\nName:{self.name}\"\n",
    "              f\"\\nAge:{self.age}\"\n",
    "              f\"\\nWeight:{self.weight}\"\n",
    "              f\"\\nSound:{self.sound}\"\n",
    "              f\"\\nSpecies:{self.species}\")\n",
    "        "
   ]
  },
  {
   "cell_type": "code",
   "execution_count": 8,
   "metadata": {
    "ExecuteTime": {
     "end_time": "2023-12-02T20:40:39.268125800Z",
     "start_time": "2023-12-02T20:40:35.182672900Z"
    },
    "collapsed": false
   },
   "outputs": [
    {
     "name": "stdout",
     "output_type": "stream",
     "text": [
      "-------------------Animal Number:count(0)------------------\n",
      "Name:chien\n",
      "Age:25\n",
      "Weight:25\n",
      "Sound:aboie\n",
      "Species:canin\n",
      "\n",
      "EAT: Animal numero count(0)  Weights : 26\n",
      "\n",
      "The  Animal numero count(0)  is Sleeping : ZZZzzz\n",
      "\n",
      "WEIGHT: Animal numero count(0)  Weights :25\n",
      "\n",
      "The animal number count(0)Sounds like is:aboie\n"
     ]
    }
   ],
   "source": [
    "animal=Animal\n",
    "animal.name=input(\"enter the name of the animal:\")\n",
    "\n",
    "#Only Number Value in user's imput \n",
    "while True:\n",
    "  try:\n",
    "    animal.age=int(input(\"enter the Age of the animal:\"))\n",
    "    break\n",
    "  except ValueError:\n",
    "      print(\"Please input integer only...\")  \n",
    "      continue\n",
    " \n",
    "while True:\n",
    "  try:\n",
    "    animal.weight=int(input(\"enter the Weight of the animal:\"))\n",
    "    break\n",
    "  except ValueError:\n",
    "      print(\"Please input integer only...\")  \n",
    "      continue\n",
    " \n",
    "animal.sound=input(\"enter the sound of the animal:\")\n",
    "animal.species=input(\"enter the species of the animal:\")\n",
    "        \n",
    "animal.__str__(animal) \n",
    "animal.eat(animal)          \n",
    "animal.sleep(animal) \n",
    "animal.run(animal)      \n",
    "animal.make_sound(animal)       \n",
    "   \n",
    "         \n",
    "      \n",
    "\n"
   ]
  },
  {
   "cell_type": "markdown",
   "metadata": {},
   "source": [
    "\\\\\\#### Ex 5. \n",
    "\n",
    "Crate 3 objects of the previous class: a dog, a cat and a cow.\n",
    "\n",
    "Then make them eat, sleep, run and make sound."
   ]
  },
  {
   "cell_type": "markdown",
   "metadata": {},
   "source": [
    "Usage of Inheritance"
   ]
  },
  {
   "cell_type": "code",
   "execution_count": 19,
   "metadata": {
    "ExecuteTime": {
     "end_time": "2023-12-02T22:16:33.276531200Z",
     "start_time": "2023-12-02T22:16:33.234899200Z"
    }
   },
   "outputs": [
    {
     "name": "stdout",
     "output_type": "stream",
     "text": [
      "Please input integer only...\n",
      "-------------------Animal Number:count(0)------------------\n",
      "Name:ff\n",
      "Age:45\n",
      "Weight:78\n",
      "Sound:w\n",
      "Species:canin\n",
      "None\n",
      "\n",
      "EAT: Animal numero count(0)  Weights : 79\n",
      "\n",
      "The  Animal numero count(0)  is Sleeping : ZZZzzz\n",
      "\n",
      "WEIGHT: Animal numero count(0)  Weights :78\n",
      "\n",
      "The animal number count(0)Sounds like is:w\n"
     ]
    }
   ],
   "source": [
    "#Usage of Inheritance OF THE SuperClasse Animal\n",
    "\n",
    "class Dog(Animal):\n",
    "    \n",
    "    def __init__(self,name,age,weight,sound,species):\n",
    "        super().__init__(self,name,age,weight,sound,species=\"DOG\")\n",
    "        self.species={species}\n",
    "        \n",
    "    def __str__(self):      \n",
    "        print(super().__str__(self))\n",
    "\n",
    "\n",
    "dog=Dog\n",
    "dog.name=input(\"enter the name of the Dog:\")\n",
    "while True:\n",
    "  try:\n",
    "    dog.age=int(input(\"enter the Age of the Dog:\"))\n",
    "    break\n",
    "  except ValueError:\n",
    "      print(\"Please input integer only...\")  \n",
    "      continue\n",
    " \n",
    "while True:\n",
    "  try:\n",
    "    dog.weight=int(input(\"enter the Weight of the Dog:\"))\n",
    "    break\n",
    "  except ValueError:\n",
    "      print(\"Please input integer only...\")  \n",
    "      continue\n",
    " \n",
    "\n",
    "dog.sound=input(\"enter the sound of the Dog:\")       \n",
    "dog.__str__(dog)  \n",
    "dog.eat(dog)          \n",
    "dog.sleep(dog) \n",
    "dog.run(dog)      \n",
    "dog.make_sound(dog)\n",
    "     "
   ]
  },
  {
   "cell_type": "code",
   "execution_count": 20,
   "metadata": {
    "ExecuteTime": {
     "end_time": "2023-12-02T20:51:38.193857100Z",
     "start_time": "2023-12-02T20:51:38.140429700Z"
    }
   },
   "outputs": [
    {
     "name": "stdout",
     "output_type": "stream",
     "text": [
      "-------------------Animal Number:count(0)------------------\n",
      "Name:ll\n",
      "Age:77\n",
      "Weight:77\n",
      "Sound:pp\n",
      "Species:canin\n",
      "\n",
      "EAT: Animal numero count(0)  Weights : 78\n",
      "\n",
      "The  Animal numero count(0)  is Sleeping : ZZZzzz\n",
      "\n",
      "WEIGHT: Animal numero count(0)  Weights :77\n",
      "\n",
      "The animal number count(0)Sounds like is:pp\n"
     ]
    }
   ],
   "source": [
    "class Cat(Animal):\n",
    "    \n",
    "    def __init__(self,name,age,weight,sound,species):\n",
    "        super().__init__(self,name,age,weight,sound,species='Cat')\n",
    "        self.species={species}\n",
    "\n",
    "cat=Cat\n",
    "cat.name=input(\"enter the name of the Cat:\")\n",
    "while True:\n",
    "  try:\n",
    "    cat.age=int(input(\"enter the Age of the Cat:\"))\n",
    "    break\n",
    "  except ValueError:\n",
    "      print(\"Please input integer only...\")  \n",
    "      continue\n",
    " \n",
    "while True:\n",
    "  try:\n",
    "    cat.weight=int(input(\"enter the Weight of the Cat:\"))\n",
    "    break\n",
    "  except ValueError:\n",
    "      print(\"Please input integer only...\")  \n",
    "      continue\n",
    "  \n",
    "cat.sound=input(\"enter the sound of the Cat:\")       \n",
    "cat.__str__(cat)      \n",
    "cat.eat(cat)          \n",
    "cat.sleep(cat) \n",
    "cat.run(cat)      \n",
    "cat.make_sound(cat)      "
   ]
  },
  {
   "cell_type": "code",
   "execution_count": 16,
   "metadata": {
    "ExecuteTime": {
     "end_time": "2023-12-02T20:51:40.033314Z",
     "start_time": "2023-12-02T20:51:39.973709400Z"
    }
   },
   "outputs": [
    {
     "name": "stdout",
     "output_type": "stream",
     "text": [
      "-------------------Animal Number:count(0)------------------\n",
      "Name:cow\n",
      "Age:258\n",
      "Weight:258\n",
      "Sound:cow\n",
      "Species:canin\n",
      "\n",
      "EAT: Animal numero count(0)  Weights : 259\n",
      "\n",
      "The  Animal numero count(0)  is Sleeping : ZZZzzz\n",
      "\n",
      "WEIGHT: Animal numero count(0)  Weights :258\n",
      "\n",
      "The animal number count(0)Sounds like is:cow\n"
     ]
    }
   ],
   "source": [
    "class Cow(Animal):\n",
    "    \n",
    "    def __init__(self,name,age,weight,sound,species):\n",
    "        super().__init__(self,name,age,weight,sound,species='Cow')\n",
    "        self.species={species}\n",
    "cow=Cow\n",
    "cow.name=input(\"enter the name of the Cow:\")\n",
    "while True:\n",
    "  try:\n",
    "    cow.age=int(input(\"enter the Age of the Cow:\"))\n",
    "    break\n",
    "  except ValueError:\n",
    "      print(\"Please input integer only...\")  \n",
    "      continue\n",
    " \n",
    "while True:\n",
    "  try:\n",
    "    cow.weight=int(input(\"enter the Weight of the Cow:\"))\n",
    "    break\n",
    "  except ValueError:\n",
    "      print(\"Please input integer only...\")  \n",
    "      continue\n",
    "cow.sound=input(\"enter the sound of the Cow:\")       \n",
    "cow.__str__(cow)        \n",
    "\n",
    "cow.eat(cow)          \n",
    "cow.sleep(cow) \n",
    "cow.run(cow)      \n",
    "cow.make_sound(cow)       \n",
    "         \n",
    "      "
   ]
  },
  {
   "cell_type": "code",
   "execution_count": 14,
   "metadata": {},
   "outputs": [
    {
     "name": "stdout",
     "output_type": "stream",
     "text": [
      "-------------------Animal Number:count(0)------------------\n",
      "Name:cat\n",
      "Age:45\n",
      "Weight:45\n",
      "Sound:cat\n",
      "Species:canin\n",
      "\n",
      "EAT: Animal numero count(0)  Weights : 46\n",
      "\n",
      "The  Animal numero count(0)  is Sleeping : ZZZzzz\n",
      "\n",
      "WEIGHT: Animal numero count(0)  Weights :45\n",
      "\n",
      "The animal number count(0)Sounds like is:cat\n"
     ]
    }
   ],
   "source": [
    " \n",
    "         "
   ]
  },
  {
   "cell_type": "code",
   "execution_count": null,
   "metadata": {},
   "outputs": [],
   "source": []
  },
  {
   "cell_type": "code",
   "execution_count": null,
   "metadata": {},
   "outputs": [],
   "source": []
  },
  {
   "cell_type": "code",
   "execution_count": null,
   "metadata": {},
   "outputs": [],
   "source": []
  },
  {
   "cell_type": "code",
   "execution_count": null,
   "metadata": {},
   "outputs": [],
   "source": []
  }
 ],
 "metadata": {
  "kernelspec": {
   "display_name": "Python 3 (ipykernel)",
   "language": "python",
   "name": "python3"
  },
  "language_info": {
   "codemirror_mode": {
    "name": "ipython",
    "version": 3
   },
   "file_extension": ".py",
   "mimetype": "text/x-python",
   "name": "python",
   "nbconvert_exporter": "python",
   "pygments_lexer": "ipython3",
   "version": "3.12.0"
  }
 },
 "nbformat": 4,
 "nbformat_minor": 4
}
