{
 "cells": [
  {
   "cell_type": "markdown",
   "metadata": {},
   "source": [
    "---\n",
    "## 5. Some examples and applications"
   ]
  },
  {
   "cell_type": "code",
   "execution_count": null,
   "outputs": [],
   "source": [
    "  #VERSION 1.0 \n",
    "# #DATE 15-12-2023 \n",
    "# #FALLOU FALL EAE MASTER BIG DATA ANALYTICS \n",
    "#SOURCE:https://github.com/FallouFall/EaePython- \n",
    "# #Prof : M.Domingo Domenech, Enric"
   ],
   "metadata": {
    "collapsed": false
   }
  },
  {
   "cell_type": "markdown",
   "metadata": {},
   "source": [
    "#### Ex 1.\n",
    "\n",
    "Create a DataFrame from the following dictionary:"
   ]
  },
  {
   "cell_type": "code",
   "execution_count": 1,
   "metadata": {
    "ExecuteTime": {
     "end_time": "2023-12-19T12:32:35.090976200Z",
     "start_time": "2023-12-19T12:32:34.628002900Z"
    }
   },
   "outputs": [],
   "source": [
    "users = {\n",
    "    \"id\"         : list (range (1 , 21)) ,\n",
    "    \"name\"       : [ \"John\" , \"Jane\" , \"Alice\" , \"Bob\" , \"Eve\" , \"Jack\" , \"Jill\" , \"Kate\" , \"Mark\" , \"Paul\" , \"Bob\" ,\n",
    "                     \"Alice\" , \"Jane\" , \"John\" , \"John\" , \"Alice\" , \"Jane\" , \"John\" , \"Alice\" , \"Jane\" ] ,\n",
    "    \"telephone\"  : [ \"123456789\" , \"987654321\" , \"123123123\" , \"456456456\" , \"789789789\" , \"321321321\" , \"654654654\" ,\n",
    "                     \"987987987\" , \"159159159\" , \"753753753\" , \"637838399\" , \"123456789\" , \"987654321\" , \"123123123\" ,\n",
    "                     \"456456456\" , \"789789789\" , \"321321321\" , \"654654654\" , \"987987987\" , \"159159159\" ] ,\n",
    "    \"has_car\"    : [ True , True , False , True , False , True , False , True , False , True , False , False , False ,\n",
    "                     True , True , False , False , False , True , True ] ,\n",
    "    \"birth_date\" : [ \"1980-01-01\" , \"1981-02-02\" , \"1982-03-03\" , \"1983-04-04\" , \"1984-05-05\" , \"1985-06-06\" ,\n",
    "                     \"1986-07-07\" , \"1987-08-08\" , \"1988-09-09\" , \"1989-10-10\" , \"2001-01-01\" , \"2002-02-02\" ,\n",
    "                     \"2003-03-03\" , \"2004-04-04\" , \"2005-05-05\" , \"2006-06-06\" , \"2007-07-07\" , \"2008-08-08\" ,\n",
    "                     \"2009-09-09\" , \"2010-10-10\" ] ,\n",
    "    \"city\"       : [ \"Barcelona\" , \"Paris\" , \"London\" , \"Madrid\" , \"Rome\" , \"Pekin\" , \"Amsterdam\" , \"Lima\" , \"Lisbon\" ,\n",
    "                     \"Kigali\" , \"Barcelona\" , \"Paris\" , \"London\" , \"Madrid\" , \"Rome\" , \"Pekin\" , \"Amsterdam\" , \"Lima\" ,\n",
    "                     \"Lisbon\" , \"Kigali\" ] ,\n",
    "    }"
   ]
  },
  {
   "cell_type": "code",
   "execution_count": 2,
   "metadata": {
    "ExecuteTime": {
     "end_time": "2023-12-19T12:32:41.597455700Z",
     "start_time": "2023-12-19T12:32:34.744708700Z"
    }
   },
   "outputs": [
    {
     "data": {
      "text/plain": "    id   name  telephone has_car  birth_date       city\n0    1   John  123456789    True  1980-01-01  Barcelona\n1    2   Jane  987654321    True  1981-02-02      Paris\n2    3  Alice  123123123   False  1982-03-03     London\n3    4    Bob  456456456    True  1983-04-04     Madrid\n4    5    Eve  789789789   False  1984-05-05       Rome\n5    6   Jack  321321321    True  1985-06-06      Pekin\n6    7   Jill  654654654   False  1986-07-07  Amsterdam\n7    8   Kate  987987987    True  1987-08-08       Lima\n8    9   Mark  159159159   False  1988-09-09     Lisbon\n9   10   Paul  753753753    True  1989-10-10     Kigali\n10  11    Bob  637838399   False  2001-01-01  Barcelona\n11  12  Alice  123456789   False  2002-02-02      Paris\n12  13   Jane  987654321   False  2003-03-03     London\n13  14   John  123123123    True  2004-04-04     Madrid\n14  15   John  456456456    True  2005-05-05       Rome\n15  16  Alice  789789789   False  2006-06-06      Pekin\n16  17   Jane  321321321   False  2007-07-07  Amsterdam\n17  18   John  654654654   False  2008-08-08       Lima\n18  19  Alice  987987987    True  2009-09-09     Lisbon\n19  20   Jane  159159159    True  2010-10-10     Kigali",
      "text/html": "<div>\n<style scoped>\n    .dataframe tbody tr th:only-of-type {\n        vertical-align: middle;\n    }\n\n    .dataframe tbody tr th {\n        vertical-align: top;\n    }\n\n    .dataframe thead th {\n        text-align: right;\n    }\n</style>\n<table border=\"1\" class=\"dataframe\">\n  <thead>\n    <tr style=\"text-align: right;\">\n      <th></th>\n      <th>id</th>\n      <th>name</th>\n      <th>telephone</th>\n      <th>has_car</th>\n      <th>birth_date</th>\n      <th>city</th>\n    </tr>\n  </thead>\n  <tbody>\n    <tr>\n      <th>0</th>\n      <td>1</td>\n      <td>John</td>\n      <td>123456789</td>\n      <td>True</td>\n      <td>1980-01-01</td>\n      <td>Barcelona</td>\n    </tr>\n    <tr>\n      <th>1</th>\n      <td>2</td>\n      <td>Jane</td>\n      <td>987654321</td>\n      <td>True</td>\n      <td>1981-02-02</td>\n      <td>Paris</td>\n    </tr>\n    <tr>\n      <th>2</th>\n      <td>3</td>\n      <td>Alice</td>\n      <td>123123123</td>\n      <td>False</td>\n      <td>1982-03-03</td>\n      <td>London</td>\n    </tr>\n    <tr>\n      <th>3</th>\n      <td>4</td>\n      <td>Bob</td>\n      <td>456456456</td>\n      <td>True</td>\n      <td>1983-04-04</td>\n      <td>Madrid</td>\n    </tr>\n    <tr>\n      <th>4</th>\n      <td>5</td>\n      <td>Eve</td>\n      <td>789789789</td>\n      <td>False</td>\n      <td>1984-05-05</td>\n      <td>Rome</td>\n    </tr>\n    <tr>\n      <th>5</th>\n      <td>6</td>\n      <td>Jack</td>\n      <td>321321321</td>\n      <td>True</td>\n      <td>1985-06-06</td>\n      <td>Pekin</td>\n    </tr>\n    <tr>\n      <th>6</th>\n      <td>7</td>\n      <td>Jill</td>\n      <td>654654654</td>\n      <td>False</td>\n      <td>1986-07-07</td>\n      <td>Amsterdam</td>\n    </tr>\n    <tr>\n      <th>7</th>\n      <td>8</td>\n      <td>Kate</td>\n      <td>987987987</td>\n      <td>True</td>\n      <td>1987-08-08</td>\n      <td>Lima</td>\n    </tr>\n    <tr>\n      <th>8</th>\n      <td>9</td>\n      <td>Mark</td>\n      <td>159159159</td>\n      <td>False</td>\n      <td>1988-09-09</td>\n      <td>Lisbon</td>\n    </tr>\n    <tr>\n      <th>9</th>\n      <td>10</td>\n      <td>Paul</td>\n      <td>753753753</td>\n      <td>True</td>\n      <td>1989-10-10</td>\n      <td>Kigali</td>\n    </tr>\n    <tr>\n      <th>10</th>\n      <td>11</td>\n      <td>Bob</td>\n      <td>637838399</td>\n      <td>False</td>\n      <td>2001-01-01</td>\n      <td>Barcelona</td>\n    </tr>\n    <tr>\n      <th>11</th>\n      <td>12</td>\n      <td>Alice</td>\n      <td>123456789</td>\n      <td>False</td>\n      <td>2002-02-02</td>\n      <td>Paris</td>\n    </tr>\n    <tr>\n      <th>12</th>\n      <td>13</td>\n      <td>Jane</td>\n      <td>987654321</td>\n      <td>False</td>\n      <td>2003-03-03</td>\n      <td>London</td>\n    </tr>\n    <tr>\n      <th>13</th>\n      <td>14</td>\n      <td>John</td>\n      <td>123123123</td>\n      <td>True</td>\n      <td>2004-04-04</td>\n      <td>Madrid</td>\n    </tr>\n    <tr>\n      <th>14</th>\n      <td>15</td>\n      <td>John</td>\n      <td>456456456</td>\n      <td>True</td>\n      <td>2005-05-05</td>\n      <td>Rome</td>\n    </tr>\n    <tr>\n      <th>15</th>\n      <td>16</td>\n      <td>Alice</td>\n      <td>789789789</td>\n      <td>False</td>\n      <td>2006-06-06</td>\n      <td>Pekin</td>\n    </tr>\n    <tr>\n      <th>16</th>\n      <td>17</td>\n      <td>Jane</td>\n      <td>321321321</td>\n      <td>False</td>\n      <td>2007-07-07</td>\n      <td>Amsterdam</td>\n    </tr>\n    <tr>\n      <th>17</th>\n      <td>18</td>\n      <td>John</td>\n      <td>654654654</td>\n      <td>False</td>\n      <td>2008-08-08</td>\n      <td>Lima</td>\n    </tr>\n    <tr>\n      <th>18</th>\n      <td>19</td>\n      <td>Alice</td>\n      <td>987987987</td>\n      <td>True</td>\n      <td>2009-09-09</td>\n      <td>Lisbon</td>\n    </tr>\n    <tr>\n      <th>19</th>\n      <td>20</td>\n      <td>Jane</td>\n      <td>159159159</td>\n      <td>True</td>\n      <td>2010-10-10</td>\n      <td>Kigali</td>\n    </tr>\n  </tbody>\n</table>\n</div>"
     },
     "execution_count": 2,
     "metadata": {},
     "output_type": "execute_result"
    }
   ],
   "source": [
    "  # Your code here\n",
    "import pandas as pd\n",
    "import numpy as np\n",
    "\n",
    "df = pd.DataFrame.from_dict (users , orient = 'index').T\n",
    "df"
   ]
  },
  {
   "cell_type": "markdown",
   "metadata": {},
   "source": [
    "#### Ex 2. \n",
    "\n",
    "Use the previous Users DataFrame to answer the following questions:\n",
    "\n",
    "- How many users are there?\n",
    "- How many users have a car?\n",
    "- What is the average age of the users?\n",
    "- What is the most common name?\n",
    "- What is the most common city?\n"
   ]
  },
  {
   "cell_type": "code",
   "execution_count": 96,
   "metadata": {
    "ExecuteTime": {
     "end_time": "2023-12-05T18:11:51.455500Z",
     "start_time": "2023-12-05T18:11:51.395336300Z"
    }
   },
   "outputs": [],
   "source": [
    "  # Your code here"
   ]
  },
  {
   "cell_type": "code",
   "execution_count": 1,
   "metadata": {
    "ExecuteTime": {
     "end_time": "2023-12-27T19:34:03.074114700Z",
     "start_time": "2023-12-27T19:34:02.322167Z"
    }
   },
   "outputs": [
    {
     "ename": "NameError",
     "evalue": "name 'df' is not defined",
     "output_type": "error",
     "traceback": [
      "\u001B[1;31m---------------------------------------------------------------------------\u001B[0m",
      "\u001B[1;31mNameError\u001B[0m                                 Traceback (most recent call last)",
      "Cell \u001B[1;32mIn[1], line 4\u001B[0m\n\u001B[0;32m      1\u001B[0m \u001B[38;5;28;01mimport\u001B[39;00m \u001B[38;5;21;01mdatetime\u001B[39;00m\n\u001B[0;32m      3\u001B[0m \u001B[38;5;66;03m#shape also work shape()[0]\u001B[39;00m\n\u001B[1;32m----> 4\u001B[0m \u001B[38;5;28mprint\u001B[39m (\u001B[38;5;124mf\u001B[39m\u001B[38;5;124m\"\u001B[39m\u001B[38;5;124mNumber of users:\u001B[39m\u001B[38;5;132;01m{\u001B[39;00m\u001B[38;5;28mlen\u001B[39m\u001B[38;5;250m \u001B[39m(df)\u001B[38;5;132;01m}\u001B[39;00m\u001B[38;5;124m\"\u001B[39m)\n\u001B[0;32m      5\u001B[0m \u001B[38;5;28mprint\u001B[39m (\u001B[38;5;124mf\u001B[39m\u001B[38;5;124m\"\u001B[39m\u001B[38;5;124mNumber of users Who have Cars:\u001B[39m\u001B[38;5;132;01m{\u001B[39;00mdf\u001B[38;5;241m.\u001B[39mhas_car\u001B[38;5;241m.\u001B[39msum\u001B[38;5;250m \u001B[39m(\u001B[38;5;250m \u001B[39m)\u001B[38;5;132;01m}\u001B[39;00m\u001B[38;5;124m\"\u001B[39m)\n\u001B[0;32m      6\u001B[0m listofBirth \u001B[38;5;241m=\u001B[39m df [ \u001B[38;5;124m'\u001B[39m\u001B[38;5;124mbirth_date\u001B[39m\u001B[38;5;124m'\u001B[39m ]\n",
      "\u001B[1;31mNameError\u001B[0m: name 'df' is not defined"
     ]
    }
   ],
   "source": [
    "import datetime\n",
    "\n",
    "#shape also work shape()[0]\n",
    "print (f\"Number of users:{len (df)}\")\n",
    "print (f\"Number of users Who have Cars:{df.has_car.sum ( )}\")\n",
    "listofBirth = df [ 'birth_date' ]\n",
    "listDate = [ ]\n",
    "for this in listofBirth :\n",
    "    listDate.append (datetime.date (*(int (x) for x in this.split ('-'))))\n",
    "listAges = [ ]\n",
    "#print(listDate)\n",
    "todayDate = datetime.date.today ( )\n",
    "for this in listDate :\n",
    "    listAges.append (todayDate.year - this.year - ((todayDate.month , todayDate.day) < (this.month , this.day)))\n",
    "arrayAge = np.array (listAges)\n",
    "print (f\"Average Age:{arrayAge.mean ( )}\")\n",
    "print (f\"\\n Most Common  {df [ 'name' ].value_counts ( ).nlargest (1)} \")\n",
    "print (f\"\\n Most Common  {df [ 'city' ].value_counts ( ).nlargest (1)}\")\n",
    "\n"
   ]
  },
  {
   "cell_type": "markdown",
   "metadata": {},
   "source": [
    "#### Ex 3.\n",
    "\n",
    "Create a new column in the previous DataFrame called \"Continent\" based on the city of each user. You can start by checking the unique countries and building a list of the countries for each continent. Then you can use the apply() method to apply a function to each row of the DataFrame to get the continent of each user."
   ]
  },
  {
   "cell_type": "code",
   "execution_count": null,
   "metadata": {},
   "outputs": [],
   "source": [
    "  # Your code here"
   ]
  },
  {
   "cell_type": "code",
   "execution_count": 7,
   "metadata": {
    "ExecuteTime": {
     "end_time": "2023-12-19T14:52:45.216909900Z",
     "start_time": "2023-12-19T14:52:45.184955100Z"
    }
   },
   "outputs": [
    {
     "data": {
      "text/plain": "    id   name  telephone has_car  birth_date       city      Continent\n0    1   John  123456789    True  1980-01-01  Barcelona         Europe\n1    2   Jane  987654321    True  1981-02-02      Paris         Europe\n2    3  Alice  123123123   False  1982-03-03     London         Europe\n3    4    Bob  456456456    True  1983-04-04     Madrid         Europe\n4    5    Eve  789789789   False  1984-05-05       Rome         Europe\n5    6   Jack  321321321    True  1985-06-06      Pekin           Asia\n6    7   Jill  654654654   False  1986-07-07  Amsterdam         Europe\n7    8   Kate  987987987    True  1987-08-08       Lima  South America\n8    9   Mark  159159159   False  1988-09-09     Lisbon         Europe\n9   10   Paul  753753753    True  1989-10-10     Kigali         Africa\n10  11    Bob  637838399   False  2001-01-01  Barcelona         Europe\n11  12  Alice  123456789   False  2002-02-02      Paris         Europe\n12  13   Jane  987654321   False  2003-03-03     London         Europe\n13  14   John  123123123    True  2004-04-04     Madrid         Europe\n14  15   John  456456456    True  2005-05-05       Rome         Europe\n15  16  Alice  789789789   False  2006-06-06      Pekin           Asia\n16  17   Jane  321321321   False  2007-07-07  Amsterdam         Europe\n17  18   John  654654654   False  2008-08-08       Lima  South America\n18  19  Alice  987987987    True  2009-09-09     Lisbon         Europe\n19  20   Jane  159159159    True  2010-10-10     Kigali         Africa",
      "text/html": "<div>\n<style scoped>\n    .dataframe tbody tr th:only-of-type {\n        vertical-align: middle;\n    }\n\n    .dataframe tbody tr th {\n        vertical-align: top;\n    }\n\n    .dataframe thead th {\n        text-align: right;\n    }\n</style>\n<table border=\"1\" class=\"dataframe\">\n  <thead>\n    <tr style=\"text-align: right;\">\n      <th></th>\n      <th>id</th>\n      <th>name</th>\n      <th>telephone</th>\n      <th>has_car</th>\n      <th>birth_date</th>\n      <th>city</th>\n      <th>Continent</th>\n    </tr>\n  </thead>\n  <tbody>\n    <tr>\n      <th>0</th>\n      <td>1</td>\n      <td>John</td>\n      <td>123456789</td>\n      <td>True</td>\n      <td>1980-01-01</td>\n      <td>Barcelona</td>\n      <td>Europe</td>\n    </tr>\n    <tr>\n      <th>1</th>\n      <td>2</td>\n      <td>Jane</td>\n      <td>987654321</td>\n      <td>True</td>\n      <td>1981-02-02</td>\n      <td>Paris</td>\n      <td>Europe</td>\n    </tr>\n    <tr>\n      <th>2</th>\n      <td>3</td>\n      <td>Alice</td>\n      <td>123123123</td>\n      <td>False</td>\n      <td>1982-03-03</td>\n      <td>London</td>\n      <td>Europe</td>\n    </tr>\n    <tr>\n      <th>3</th>\n      <td>4</td>\n      <td>Bob</td>\n      <td>456456456</td>\n      <td>True</td>\n      <td>1983-04-04</td>\n      <td>Madrid</td>\n      <td>Europe</td>\n    </tr>\n    <tr>\n      <th>4</th>\n      <td>5</td>\n      <td>Eve</td>\n      <td>789789789</td>\n      <td>False</td>\n      <td>1984-05-05</td>\n      <td>Rome</td>\n      <td>Europe</td>\n    </tr>\n    <tr>\n      <th>5</th>\n      <td>6</td>\n      <td>Jack</td>\n      <td>321321321</td>\n      <td>True</td>\n      <td>1985-06-06</td>\n      <td>Pekin</td>\n      <td>Asia</td>\n    </tr>\n    <tr>\n      <th>6</th>\n      <td>7</td>\n      <td>Jill</td>\n      <td>654654654</td>\n      <td>False</td>\n      <td>1986-07-07</td>\n      <td>Amsterdam</td>\n      <td>Europe</td>\n    </tr>\n    <tr>\n      <th>7</th>\n      <td>8</td>\n      <td>Kate</td>\n      <td>987987987</td>\n      <td>True</td>\n      <td>1987-08-08</td>\n      <td>Lima</td>\n      <td>South America</td>\n    </tr>\n    <tr>\n      <th>8</th>\n      <td>9</td>\n      <td>Mark</td>\n      <td>159159159</td>\n      <td>False</td>\n      <td>1988-09-09</td>\n      <td>Lisbon</td>\n      <td>Europe</td>\n    </tr>\n    <tr>\n      <th>9</th>\n      <td>10</td>\n      <td>Paul</td>\n      <td>753753753</td>\n      <td>True</td>\n      <td>1989-10-10</td>\n      <td>Kigali</td>\n      <td>Africa</td>\n    </tr>\n    <tr>\n      <th>10</th>\n      <td>11</td>\n      <td>Bob</td>\n      <td>637838399</td>\n      <td>False</td>\n      <td>2001-01-01</td>\n      <td>Barcelona</td>\n      <td>Europe</td>\n    </tr>\n    <tr>\n      <th>11</th>\n      <td>12</td>\n      <td>Alice</td>\n      <td>123456789</td>\n      <td>False</td>\n      <td>2002-02-02</td>\n      <td>Paris</td>\n      <td>Europe</td>\n    </tr>\n    <tr>\n      <th>12</th>\n      <td>13</td>\n      <td>Jane</td>\n      <td>987654321</td>\n      <td>False</td>\n      <td>2003-03-03</td>\n      <td>London</td>\n      <td>Europe</td>\n    </tr>\n    <tr>\n      <th>13</th>\n      <td>14</td>\n      <td>John</td>\n      <td>123123123</td>\n      <td>True</td>\n      <td>2004-04-04</td>\n      <td>Madrid</td>\n      <td>Europe</td>\n    </tr>\n    <tr>\n      <th>14</th>\n      <td>15</td>\n      <td>John</td>\n      <td>456456456</td>\n      <td>True</td>\n      <td>2005-05-05</td>\n      <td>Rome</td>\n      <td>Europe</td>\n    </tr>\n    <tr>\n      <th>15</th>\n      <td>16</td>\n      <td>Alice</td>\n      <td>789789789</td>\n      <td>False</td>\n      <td>2006-06-06</td>\n      <td>Pekin</td>\n      <td>Asia</td>\n    </tr>\n    <tr>\n      <th>16</th>\n      <td>17</td>\n      <td>Jane</td>\n      <td>321321321</td>\n      <td>False</td>\n      <td>2007-07-07</td>\n      <td>Amsterdam</td>\n      <td>Europe</td>\n    </tr>\n    <tr>\n      <th>17</th>\n      <td>18</td>\n      <td>John</td>\n      <td>654654654</td>\n      <td>False</td>\n      <td>2008-08-08</td>\n      <td>Lima</td>\n      <td>South America</td>\n    </tr>\n    <tr>\n      <th>18</th>\n      <td>19</td>\n      <td>Alice</td>\n      <td>987987987</td>\n      <td>True</td>\n      <td>2009-09-09</td>\n      <td>Lisbon</td>\n      <td>Europe</td>\n    </tr>\n    <tr>\n      <th>19</th>\n      <td>20</td>\n      <td>Jane</td>\n      <td>159159159</td>\n      <td>True</td>\n      <td>2010-10-10</td>\n      <td>Kigali</td>\n      <td>Africa</td>\n    </tr>\n  </tbody>\n</table>\n</div>"
     },
     "execution_count": 7,
     "metadata": {},
     "output_type": "execute_result"
    }
   ],
   "source": [
    "listOfContinent = {\n",
    "    \"Barcelona\" : \"Europe\" ,\n",
    "    \"Paris\"     : \"Europe\" ,\n",
    "    \"London\"    : \"Europe\" ,\n",
    "    \"Madrid\"    : \"Europe\" ,\n",
    "    \"Rome\"      : \"Europe\" ,\n",
    "    \"Amsterdam\" : \"Europe\" ,\n",
    "    \"Lisbon\"    : \"Europe\" ,\n",
    "    \"Kigali\"    : \"Africa\" ,\n",
    "    \"Pekin\"     : \"Asia\" ,\n",
    "    \"Lima\"      : \"South America\" ,\n",
    "    }\n",
    "\n",
    "\n",
    "# cant create a map corretly so i find the corresponding value on the city in the disctionnary\n",
    "\n",
    "def findContinent(country) :\n",
    "    return listOfContinent.get (country)\n",
    "\n",
    "\n",
    "# print(findContinent('Kigali'))\n",
    "df [ 'Continent' ] = df [ 'city' ].apply (findContinent)\n",
    "df\n",
    "\n",
    "\n"
   ]
  },
  {
   "cell_type": "markdown",
   "metadata": {},
   "source": [
    "#### Ex 4. \n",
    "\n",
    "Save the modified DataFrame to a csv file called `users_processed.csv` without the index column."
   ]
  },
  {
   "cell_type": "code",
   "execution_count": null,
   "metadata": {},
   "outputs": [],
   "source": [
    "  # Your code here"
   ]
  },
  {
   "cell_type": "code",
   "execution_count": 8,
   "metadata": {
    "ExecuteTime": {
     "end_time": "2023-12-19T14:52:49.146745700Z",
     "start_time": "2023-12-19T14:52:49.092065200Z"
    }
   },
   "outputs": [],
   "source": [
    "\n",
    "df.to_csv (\"users_processed.csv\" , index = False)"
   ]
  },
  {
   "cell_type": "code",
   "execution_count": null,
   "metadata": {},
   "outputs": [],
   "source": []
  }
 ],
 "metadata": {
  "kernelspec": {
   "display_name": "venv",
   "language": "python",
   "name": "python3"
  },
  "language_info": {
   "codemirror_mode": {
    "name": "ipython",
    "version": 3
   },
   "file_extension": ".py",
   "mimetype": "text/x-python",
   "name": "python",
   "nbconvert_exporter": "python",
   "pygments_lexer": "ipython3",
   "version": "3.12.0"
  }
 },
 "nbformat": 4,
 "nbformat_minor": 2
}
