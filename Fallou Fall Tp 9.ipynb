{
 "cells": [
  {
   "cell_type": "code",
   "execution_count": null,
   "metadata": {},
   "outputs": [],
   "source": []
  },
  {
   "cell_type": "code",
   "execution_count": null,
   "outputs": [],
   "source": [
    "  #VERSION 1.0 \n",
    "# #DATE 20-12-2023 \n",
    "# #FALLOU FALL EAE MASTER BIG DATA ANALYTICS \n",
    "#SOURCE:https://github.com/FallouFall/EaePython- \n",
    "# #Prof : M.Domingo Domenech, Enric"
   ],
   "metadata": {
    "collapsed": false
   }
  },
  {
   "cell_type": "markdown",
   "metadata": {},
   "source": [
    "---\n",
    "## 3. Python refresh and practice"
   ]
  },
  {
   "cell_type": "markdown",
   "metadata": {},
   "source": [
    "#### 3.1.\n",
    "\n",
    "Write a function that receives a list of numbers and returns those who are multiple of 3, 5, 7, and 9. The result has to be a dictionary with the keys \"3\", \"5\", \"7\", and \"9\" and the values the list of numbers that are multiple of each key. Then, convert that dictionary result into a string and save it in a file called \"multiples.txt\".\n",
    "\n",
    "For example, if the input is [1, 2, 3, 4, 5, 6, 7, 8, 9], the output should be {\"3\": [3, 6, 9], \"5\": [5], \"7\": [7], \"9\": [9]}."
   ]
  },
  {
   "cell_type": "code",
   "execution_count": 1,
   "metadata": {
    "ExecuteTime": {
     "end_time": "2023-12-20T14:33:28.159185200Z",
     "start_time": "2023-12-20T14:33:28.152339200Z"
    }
   },
   "outputs": [
    {
     "name": "stdout",
     "output_type": "stream",
     "text": [
      "{3: [51, 54, 57, 60, 63, 66, 69, 72, 75, 78, 81, 84, 87, 90, 93, 96, 99, 102, 105, 108, 111, 114, 117, 120, 123, 126, 129, 132, 135, 138, 141, 144, 147], 5: [50, 55, 60, 65, 70, 75, 80, 85, 90, 95, 100, 105, 110, 115, 120, 125, 130, 135, 140, 145], 7: [56, 63, 70, 77, 84, 91, 98, 105, 112, 119, 126, 133, 140, 147], 9: [54, 63, 72, 81, 90, 99, 108, 117, 126, 135, 144]}\n"
     ]
    }
   ],
   "source": [
    "import datetime\n",
    "\n",
    "nums = [ n for n in range ( 50 , 150 ) ]\n",
    "# your code here\n",
    "myDictionnary = {\n",
    "    3 : [ this for this in nums if this % 3 == 0 ] ,\n",
    "    5 : [ this for this in nums if this % 5 == 0 ] ,\n",
    "    7 : [ this for this in nums if this % 7 == 0 ] ,\n",
    "    9 : [ this for this in nums if this % 9 == 0 ] ,\n",
    "    }\n",
    "with open ( \"multiple.txt\" , \"w+\" ) as dictionnaryFile :\n",
    "    dictionnaryFile.write ( myDictionnary.__str__ ( ) )\n",
    "print ( myDictionnary )\n"
   ]
  },
  {
   "cell_type": "code",
   "execution_count": null,
   "metadata": {},
   "outputs": [],
   "source": []
  },
  {
   "cell_type": "markdown",
   "metadata": {},
   "source": [
    "#### 3.2.\n",
    "\n",
    "Build a function that will receive a number of seconds, and will return a string with the number of days, hours, minutes and seconds that are in that number of seconds. For example, if the input is `200_000`, the output should be:   \n",
    "`\"2 days, 7 hours, 33 minutes, and 20 seconds\"`"
   ]
  },
  {
   "cell_type": "code",
   "execution_count": 1,
   "metadata": {
    "ExecuteTime": {
     "end_time": "2023-12-21T13:02:02.769614500Z",
     "start_time": "2023-12-21T13:02:02.752445300Z"
    }
   },
   "outputs": [
    {
     "name": "stdout",
     "output_type": "stream",
     "text": [
      "200000 Secondes is: 2 days, 7 hours, 33 minutes, and 20 seconds\n"
     ]
    }
   ],
   "source": [
    "total_seconds = 200_000\n",
    "\n",
    "\n",
    "def time_func ( total_seconds ) :\n",
    "    day = total_seconds // 86400\n",
    "    rest = total_seconds % 86400\n",
    "    hours = rest // 3600\n",
    "    rest = rest % 3600\n",
    "    minutes = rest // 60\n",
    "    second = rest % 60\n",
    "    return f\"{total_seconds} Secondes is: {day} days, {hours} hours, {minutes} minutes, and {second} seconds\"\n",
    "\n",
    "\n",
    "print ( time_func ( total_seconds ) )"
   ]
  },
  {
   "cell_type": "code",
   "execution_count": null,
   "metadata": {},
   "outputs": [],
   "source": []
  },
  {
   "cell_type": "markdown",
   "metadata": {},
   "source": [
    "#### 3.3.\n",
    "\n",
    "You will receive a list of birth_dates as a string in the format \"YYYY-MM-DD\". You have to return a dictionary with the keys \"years\", \"months\", and \"days\", having as values the list of years, months and, days respectively. For example, if the input is `[\"1990-01-01\", \"1990-01-02\", \"1990-01-03\"]`, the output should be:   \n",
    "``` python\n",
    "{\n",
    "    \"years\": [1990, 1990, 1990],\n",
    "    \"months\": [1, 1, 1],\n",
    "    \"days\": [1, 2, 3]\n",
    "}\n",
    "```\n",
    "Don't use pandas, datetime or any other library. Just Python string methods, loops, dictionaries, lists, etc.l"
   ]
  },
  {
   "cell_type": "code",
   "execution_count": 8,
   "metadata": {
    "ExecuteTime": {
     "end_time": "2023-12-21T13:09:32.859620700Z",
     "start_time": "2023-12-21T13:09:32.734690500Z"
    }
   },
   "outputs": [
    {
     "name": "stdout",
     "output_type": "stream",
     "text": [
      "{'years': ['1990', '1990', '1990'], 'months': ['01', '01', '01'], 'days': ['01', '02', '03']}\n"
     ]
    }
   ],
   "source": [
    "import datetime as dt\n",
    "\n",
    "listDate = [ \"1990-01-01\" , \"1990-01-02\" , \"1990-01-03\" ]\n",
    "myDict = {\n",
    "    \"years\"  : [ this [ 0 :4 ] for this in listDate ] ,\n",
    "    \"months\" : [ this [ 5 :7 ] for this in listDate ] ,\n",
    "    \"days\"   : [ this [ 8 :10 ] for this in listDate ] ,\n",
    "    }\n",
    "\"\"\"\"\"\n",
    "\n",
    "myDict={\n",
    "    \"years\": [dt.datetime.strptime(this, \"%Y-%m-%d\").date().year for this in listDate],\n",
    "    \"months\": [dt.datetime.strptime(this, \"%Y-%m-%d\").date().month for this in listDate],\n",
    "    \"days\": [dt.datetime.strptime(this, \"%Y-%m-%d\").date().day for this in listDate]\n",
    "}\n",
    "\"\"\"\"\"\n",
    "print ( myDict )"
   ]
  },
  {
   "cell_type": "code",
   "execution_count": null,
   "metadata": {},
   "outputs": [],
   "source": []
  },
  {
   "cell_type": "markdown",
   "metadata": {},
   "source": [
    "#### 3.4.\n",
    "\n",
    "Write a function that receives a string and returns it reversed. For example, if the input is \"Hello World!\", the output should be \"!dlroW olleH\".\n"
   ]
  },
  {
   "cell_type": "code",
   "execution_count": 9,
   "metadata": {
    "ExecuteTime": {
     "end_time": "2023-12-21T13:09:55.799389Z",
     "start_time": "2023-12-21T13:09:55.667803900Z"
    }
   },
   "outputs": [
    {
     "data": {
      "text/plain": "'!dlroW olleH'"
     },
     "execution_count": 9,
     "metadata": {},
     "output_type": "execute_result"
    }
   ],
   "source": [
    "\n",
    "\n",
    "def xx ( any ) :\n",
    "    return any [ : :-1 ]\n",
    "\n",
    "\n",
    "xx ( \"Hello World!\" )"
   ]
  },
  {
   "cell_type": "code",
   "execution_count": null,
   "metadata": {},
   "outputs": [],
   "source": []
  },
  {
   "cell_type": "markdown",
   "metadata": {},
   "source": [
    "#### 3.5\n",
    "\n",
    "Two Sum problem: Given an array of integers nums and an integer target, return indices of the two numbers such that they add up to target. You may not use the same element twice. You can return the answer in any order.\n",
    "\n",
    "Example 1:\n",
    "``` python\n",
    "Input: nums = [2,7,11,15], target = 9\n",
    "Output: [0,1]\n",
    "\n",
    "Because nums[0] + nums[1] == 9, we return [0, 1].\n",
    "```\n",
    "\n",
    "Example 2:\n",
    "``` python\n",
    "Input: nums = [3,2,4], target = 6\n",
    "Output: [1,2]\n",
    "\n",
    "Because nums[1] + nums[2] == 6, we return [1, 2].\n",
    "```"
   ]
  },
  {
   "cell_type": "code",
   "execution_count": 29,
   "metadata": {
    "ExecuteTime": {
     "end_time": "2023-12-20T17:20:33.385135100Z",
     "start_time": "2023-12-20T17:20:33.349258400Z"
    }
   },
   "outputs": [
    {
     "name": "stdout",
     "output_type": "stream",
     "text": [
      "[0, 1] \n",
      " Because 2 + 7 == 9, we return[0, 1].\n",
      "[1, 2] \n",
      " Because 2 + 4 == 6, we return[1, 2].\n",
      "[1, 2] \n",
      " Because 5 + 4 == 9, we return[1, 2].\n",
      "[1, 2] \n",
      " Because 5 + 4 == 9, we return[1, 2].\n",
      "[1, 2] \n",
      " Because 5 + 7 == 12, we return[1, 2].\n",
      "[1, 2] \n",
      " Because 2 + 5 == 7, we return[1, 2].\n"
     ]
    }
   ],
   "source": [
    "nums1 = [ 3 , 5 , 4 , 1 , 2 ]\n",
    "target1 = 9\n",
    "\n",
    "nums2 = [ 3 , 5 , 7 ]\n",
    "target2 = 12\n",
    "\n",
    "nums3 = [ 3 , 2 , 5 , 9 ]\n",
    "target3 = 7\n",
    "\n",
    "\n",
    "def findTarget ( anyList , target ) :\n",
    "    for i in range ( len ( anyList ) ) :\n",
    "        for j in range ( i + 1 , len ( anyList ) ) :\n",
    "            if anyList [ i ] + anyList [ j ] == target :\n",
    "                return f\"{[ i , j ]} \\n Because {anyList [ i ]} + {anyList [ j ]} == {anyList [ i ] + anyList [ j ]}, we return{[ i , j ]}.\"\n",
    "\n",
    "\n",
    "print ( findTarget ( nums1 , target1 ) )\n",
    "print ( findTarget ( nums1 , target1 ) )\n",
    "print ( findTarget ( nums2 , target2 ) )\n",
    "print ( findTarget ( nums3 , target3 ) )\n",
    "\n",
    "# your code here - you can use the previous nums and targets pairs as test cases"
   ]
  },
  {
   "cell_type": "code",
   "execution_count": null,
   "metadata": {},
   "outputs": [],
   "source": [
    "\n"
   ]
  },
  {
   "cell_type": "markdown",
   "metadata": {},
   "source": [
    "---\n",
    "## 4. Exercies\n",
    "\n",
    "Exercises will be sent a part\n"
   ]
  },
  {
   "cell_type": "code",
   "execution_count": null,
   "metadata": {},
   "outputs": [],
   "source": []
  }
 ],
 "metadata": {
  "kernelspec": {
   "display_name": "venv",
   "language": "python",
   "name": "python3"
  },
  "language_info": {
   "codemirror_mode": {
    "name": "ipython",
    "version": 3
   },
   "file_extension": ".py",
   "mimetype": "text/x-python",
   "name": "python",
   "nbconvert_exporter": "python",
   "pygments_lexer": "ipython3",
   "version": "3.11.5"
  }
 },
 "nbformat": 4,
 "nbformat_minor": 2
}
